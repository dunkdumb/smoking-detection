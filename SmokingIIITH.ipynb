{
  "nbformat": 4,
  "nbformat_minor": 0,
  "metadata": {
    "colab": {
      "provenance": [],
      "gpuType": "T4",
      "include_colab_link": true
    },
    "kernelspec": {
      "name": "python3",
      "display_name": "Python 3"
    },
    "language_info": {
      "name": "python"
    },
    "accelerator": "GPU"
  },
  "cells": [
    {
      "cell_type": "markdown",
      "metadata": {
        "id": "view-in-github",
        "colab_type": "text"
      },
      "source": [
        "<a href=\"https://colab.research.google.com/github/dunkdumb/smoking-detection/blob/main/SmokingIIITH.ipynb\" target=\"_parent\"><img src=\"https://colab.research.google.com/assets/colab-badge.svg\" alt=\"Open In Colab\"/></a>"
      ]
    },
    {
      "cell_type": "code",
      "source": [
        "!pip install roboflow -q"
      ],
      "metadata": {
        "colab": {
          "base_uri": "https://localhost:8080/"
        },
        "collapsed": true,
        "id": "ODbBVxnYRP60",
        "outputId": "9178ae76-3c34-4d8a-cb7e-166e893b134b"
      },
      "execution_count": null,
      "outputs": [
        {
          "output_type": "stream",
          "name": "stdout",
          "text": [
            "\u001b[?25l   \u001b[90m━━━━━━━━━━━━━━━━━━━━━━━━━━━━━━━━━━━━━━━━\u001b[0m \u001b[32m0.0/86.9 kB\u001b[0m \u001b[31m?\u001b[0m eta \u001b[36m-:--:--\u001b[0m\r\u001b[2K   \u001b[90m━━━━━━━━━━━━━━━━━━━━━━━━━━━━━━━━━━━━━━━━\u001b[0m \u001b[32m86.9/86.9 kB\u001b[0m \u001b[31m10.1 MB/s\u001b[0m eta \u001b[36m0:00:00\u001b[0m\n",
            "\u001b[2K   \u001b[90m━━━━━━━━━━━━━━━━━━━━━━━━━━━━━━━━━━━━━━━━\u001b[0m \u001b[32m66.8/66.8 kB\u001b[0m \u001b[31m6.1 MB/s\u001b[0m eta \u001b[36m0:00:00\u001b[0m\n",
            "\u001b[2K   \u001b[90m━━━━━━━━━━━━━━━━━━━━━━━━━━━━━━━━━━━━━━━━\u001b[0m \u001b[32m49.9/49.9 MB\u001b[0m \u001b[31m18.9 MB/s\u001b[0m eta \u001b[36m0:00:00\u001b[0m\n",
            "\u001b[2K   \u001b[90m━━━━━━━━━━━━━━━━━━━━━━━━━━━━━━━━━━━━━━━━\u001b[0m \u001b[32m4.2/4.2 MB\u001b[0m \u001b[31m76.5 MB/s\u001b[0m eta \u001b[36m0:00:00\u001b[0m\n",
            "\u001b[2K   \u001b[90m━━━━━━━━━━━━━━━━━━━━━━━━━━━━━━━━━━━━━━━━\u001b[0m \u001b[32m4.9/4.9 MB\u001b[0m \u001b[31m77.1 MB/s\u001b[0m eta \u001b[36m0:00:00\u001b[0m\n",
            "\u001b[?25h"
          ]
        }
      ]
    },
    {
      "cell_type": "code",
      "source": [
        "from roboflow import Roboflow\n",
        "rf = Roboflow(api_key=\"frKb0OUtoq1PGoSH7DgH\")\n",
        "project = rf.workspace(\"yolo-pdvpx\").project(\"cigarette-h2p1m\")\n",
        "version = project.version(3)\n",
        "dataset = version.download(\"yolov11\")\n"
      ],
      "metadata": {
        "colab": {
          "base_uri": "https://localhost:8080/"
        },
        "collapsed": true,
        "id": "sWvY7hFhRRdS",
        "outputId": "635a0bfd-0290-4629-ed71-ccc348aa95d2"
      },
      "execution_count": null,
      "outputs": [
        {
          "output_type": "stream",
          "name": "stdout",
          "text": [
            "loading Roboflow workspace...\n",
            "loading Roboflow project...\n"
          ]
        },
        {
          "output_type": "stream",
          "name": "stderr",
          "text": [
            "Downloading Dataset Version Zip in cigarette-3 to yolov11:: 100%|██████████| 69603/69603 [00:05<00:00, 12726.52it/s]"
          ]
        },
        {
          "output_type": "stream",
          "name": "stdout",
          "text": [
            "\n"
          ]
        },
        {
          "output_type": "stream",
          "name": "stderr",
          "text": [
            "\n",
            "Extracting Dataset Version Zip to cigarette-3 in yolov11:: 100%|██████████| 3722/3722 [00:00<00:00, 7977.34it/s]\n"
          ]
        }
      ]
    },
    {
      "cell_type": "code",
      "source": [
        "!pip install ultralytics -q"
      ],
      "metadata": {
        "colab": {
          "base_uri": "https://localhost:8080/"
        },
        "collapsed": true,
        "id": "a_NHZzdDRSw8",
        "outputId": "d52a7f2c-4626-4d7a-8c4d-9ace79b5ef31"
      },
      "execution_count": null,
      "outputs": [
        {
          "output_type": "stream",
          "name": "stdout",
          "text": [
            "\u001b[2K   \u001b[90m━━━━━━━━━━━━━━━━━━━━━━━━━━━━━━━━━━━━━━━━\u001b[0m \u001b[32m1.0/1.0 MB\u001b[0m \u001b[31m58.7 MB/s\u001b[0m eta \u001b[36m0:00:00\u001b[0m\n",
            "\u001b[2K   \u001b[90m━━━━━━━━━━━━━━━━━━━━━━━━━━━━━━━━━━━━━━━━\u001b[0m \u001b[32m363.4/363.4 MB\u001b[0m \u001b[31m5.1 MB/s\u001b[0m eta \u001b[36m0:00:00\u001b[0m\n",
            "\u001b[2K   \u001b[90m━━━━━━━━━━━━━━━━━━━━━━━━━━━━━━━━━━━━━━━━\u001b[0m \u001b[32m13.8/13.8 MB\u001b[0m \u001b[31m84.0 MB/s\u001b[0m eta \u001b[36m0:00:00\u001b[0m\n",
            "\u001b[2K   \u001b[90m━━━━━━━━━━━━━━━━━━━━━━━━━━━━━━━━━━━━━━━━\u001b[0m \u001b[32m24.6/24.6 MB\u001b[0m \u001b[31m75.2 MB/s\u001b[0m eta \u001b[36m0:00:00\u001b[0m\n",
            "\u001b[2K   \u001b[90m━━━━━━━━━━━━━━━━━━━━━━━━━━━━━━━━━━━━━━━━\u001b[0m \u001b[32m883.7/883.7 kB\u001b[0m \u001b[31m51.5 MB/s\u001b[0m eta \u001b[36m0:00:00\u001b[0m\n",
            "\u001b[2K   \u001b[90m━━━━━━━━━━━━━━━━━━━━━━━━━━━━━━━━━━━━━━━━\u001b[0m \u001b[32m664.8/664.8 MB\u001b[0m \u001b[31m2.7 MB/s\u001b[0m eta \u001b[36m0:00:00\u001b[0m\n",
            "\u001b[2K   \u001b[90m━━━━━━━━━━━━━━━━━━━━━━━━━━━━━━━━━━━━━━━━\u001b[0m \u001b[32m211.5/211.5 MB\u001b[0m \u001b[31m5.4 MB/s\u001b[0m eta \u001b[36m0:00:00\u001b[0m\n",
            "\u001b[2K   \u001b[90m━━━━━━━━━━━━━━━━━━━━━━━━━━━━━━━━━━━━━━━━\u001b[0m \u001b[32m56.3/56.3 MB\u001b[0m \u001b[31m19.3 MB/s\u001b[0m eta \u001b[36m0:00:00\u001b[0m\n",
            "\u001b[2K   \u001b[90m━━━━━━━━━━━━━━━━━━━━━━━━━━━━━━━━━━━━━━━━\u001b[0m \u001b[32m127.9/127.9 MB\u001b[0m \u001b[31m7.5 MB/s\u001b[0m eta \u001b[36m0:00:00\u001b[0m\n",
            "\u001b[2K   \u001b[90m━━━━━━━━━━━━━━━━━━━━━━━━━━━━━━━━━━━━━━━━\u001b[0m \u001b[32m207.5/207.5 MB\u001b[0m \u001b[31m6.7 MB/s\u001b[0m eta \u001b[36m0:00:00\u001b[0m\n",
            "\u001b[2K   \u001b[90m━━━━━━━━━━━━━━━━━━━━━━━━━━━━━━━━━━━━━━━━\u001b[0m \u001b[32m21.1/21.1 MB\u001b[0m \u001b[31m81.0 MB/s\u001b[0m eta \u001b[36m0:00:00\u001b[0m\n",
            "\u001b[?25h"
          ]
        }
      ]
    },
    {
      "cell_type": "code",
      "source": [
        "from ultralytics import YOLO\n",
        "model = YOLO('yolo11m.pt')"
      ],
      "metadata": {
        "colab": {
          "base_uri": "https://localhost:8080/"
        },
        "collapsed": true,
        "id": "f2fGUst2RdAx",
        "outputId": "5a4cdd98-6007-499e-c465-1e9c3130000f"
      },
      "execution_count": null,
      "outputs": [
        {
          "output_type": "stream",
          "name": "stdout",
          "text": [
            "Downloading https://github.com/ultralytics/assets/releases/download/v8.3.0/yolo11m.pt to 'yolo11m.pt'...\n"
          ]
        },
        {
          "output_type": "stream",
          "name": "stderr",
          "text": [
            "100%|██████████| 38.8M/38.8M [00:01<00:00, 38.6MB/s]\n"
          ]
        }
      ]
    },
    {
      "cell_type": "code",
      "source": [
        "model.train(\n",
        "    data='/content/cigarette-3/data.yaml',\n",
        "    epochs=30,\n",
        "    imgsz=640,\n",
        "    batch=16,\n",
        "    patience=5,\n",
        "    optimizer=\"SGD\",\n",
        "    lr0=0.001,\n",
        "    lrf=0.01,\n",
        "    momentum=0.937,\n",
        "    weight_decay=0.0005,\n",
        "    warmup_epochs=3,\n",
        "    hsv_h=0.015, hsv_s=0.7, hsv_v=0.4,\n",
        "    translate=0.1, scale=0.5,\n",
        "    fliplr=0.5, mosaic=1.0, mixup=0.1,\n",
        "    device=0,\n",
        "    cache=True\n",
        ")"
      ],
      "metadata": {
        "colab": {
          "base_uri": "https://localhost:8080/"
        },
        "id": "tFC_bQ0werwa",
        "outputId": "8316c4bf-ff3c-4e46-ad07-27ae992e6f11"
      },
      "execution_count": null,
      "outputs": [
        {
          "output_type": "stream",
          "name": "stdout",
          "text": [
            "Ultralytics 8.3.168 🚀 Python-3.11.13 torch-2.6.0+cu124 CUDA:0 (Tesla T4, 15095MiB)\n",
            "\u001b[34m\u001b[1mengine/trainer: \u001b[0magnostic_nms=False, amp=True, augment=False, auto_augment=randaugment, batch=16, bgr=0.0, box=7.5, cache=True, cfg=None, classes=None, close_mosaic=10, cls=0.5, conf=None, copy_paste=0.0, copy_paste_mode=flip, cos_lr=False, cutmix=0.0, data=/content/cigarette-3/data.yaml, degrees=0.0, deterministic=True, device=0, dfl=1.5, dnn=False, dropout=0.0, dynamic=False, embed=None, epochs=30, erasing=0.4, exist_ok=False, fliplr=0.5, flipud=0.0, format=torchscript, fraction=1.0, freeze=None, half=False, hsv_h=0.015, hsv_s=0.7, hsv_v=0.4, imgsz=640, int8=False, iou=0.7, keras=False, kobj=1.0, line_width=None, lr0=0.001, lrf=0.01, mask_ratio=4, max_det=300, mixup=0.1, mode=train, model=yolo11m.pt, momentum=0.937, mosaic=1.0, multi_scale=False, name=train, nbs=64, nms=False, opset=None, optimize=False, optimizer=SGD, overlap_mask=True, patience=5, perspective=0.0, plots=True, pose=12.0, pretrained=True, profile=False, project=None, rect=False, resume=False, retina_masks=False, save=True, save_conf=False, save_crop=False, save_dir=runs/detect/train, save_frames=False, save_json=False, save_period=-1, save_txt=False, scale=0.5, seed=0, shear=0.0, show=False, show_boxes=True, show_conf=True, show_labels=True, simplify=True, single_cls=False, source=None, split=val, stream_buffer=False, task=detect, time=None, tracker=botsort.yaml, translate=0.1, val=True, verbose=True, vid_stride=1, visualize=False, warmup_bias_lr=0.1, warmup_epochs=3, warmup_momentum=0.8, weight_decay=0.0005, workers=8, workspace=None\n",
            "Downloading https://ultralytics.com/assets/Arial.ttf to '/root/.config/Ultralytics/Arial.ttf'...\n"
          ]
        },
        {
          "output_type": "stream",
          "name": "stderr",
          "text": [
            "100%|██████████| 755k/755k [00:00<00:00, 89.5MB/s]"
          ]
        },
        {
          "output_type": "stream",
          "name": "stdout",
          "text": [
            "Overriding model.yaml nc=80 with nc=1\n",
            "\n",
            "                   from  n    params  module                                       arguments                     \n",
            "  0                  -1  1      1856  ultralytics.nn.modules.conv.Conv             [3, 64, 3, 2]                 \n",
            "  1                  -1  1     73984  ultralytics.nn.modules.conv.Conv             [64, 128, 3, 2]               \n",
            "  2                  -1  1    111872  ultralytics.nn.modules.block.C3k2            [128, 256, 1, True, 0.25]     \n",
            "  3                  -1  1    590336  ultralytics.nn.modules.conv.Conv             [256, 256, 3, 2]              \n",
            "  4                  -1  1    444928  ultralytics.nn.modules.block.C3k2            [256, 512, 1, True, 0.25]     \n",
            "  5                  -1  1   2360320  ultralytics.nn.modules.conv.Conv             [512, 512, 3, 2]              \n",
            "  6                  -1  1   1380352  ultralytics.nn.modules.block.C3k2            [512, 512, 1, True]           \n",
            "  7                  -1  1   2360320  ultralytics.nn.modules.conv.Conv             [512, 512, 3, 2]              \n",
            "  8                  -1  1   1380352  ultralytics.nn.modules.block.C3k2            [512, 512, 1, True]           \n",
            "  9                  -1  1    656896  ultralytics.nn.modules.block.SPPF            [512, 512, 5]                 \n",
            " 10                  -1  1    990976  ultralytics.nn.modules.block.C2PSA           [512, 512, 1]                 \n",
            " 11                  -1  1         0  torch.nn.modules.upsampling.Upsample         [None, 2, 'nearest']          \n",
            " 12             [-1, 6]  1         0  ultralytics.nn.modules.conv.Concat           [1]                           \n"
          ]
        },
        {
          "output_type": "stream",
          "name": "stderr",
          "text": [
            "\n"
          ]
        },
        {
          "output_type": "stream",
          "name": "stdout",
          "text": [
            " 13                  -1  1   1642496  ultralytics.nn.modules.block.C3k2            [1024, 512, 1, True]          \n",
            " 14                  -1  1         0  torch.nn.modules.upsampling.Upsample         [None, 2, 'nearest']          \n",
            " 15             [-1, 4]  1         0  ultralytics.nn.modules.conv.Concat           [1]                           \n",
            " 16                  -1  1    542720  ultralytics.nn.modules.block.C3k2            [1024, 256, 1, True]          \n",
            " 17                  -1  1    590336  ultralytics.nn.modules.conv.Conv             [256, 256, 3, 2]              \n",
            " 18            [-1, 13]  1         0  ultralytics.nn.modules.conv.Concat           [1]                           \n",
            " 19                  -1  1   1511424  ultralytics.nn.modules.block.C3k2            [768, 512, 1, True]           \n",
            " 20                  -1  1   2360320  ultralytics.nn.modules.conv.Conv             [512, 512, 3, 2]              \n",
            " 21            [-1, 10]  1         0  ultralytics.nn.modules.conv.Concat           [1]                           \n",
            " 22                  -1  1   1642496  ultralytics.nn.modules.block.C3k2            [1024, 512, 1, True]          \n",
            " 23        [16, 19, 22]  1   1411795  ultralytics.nn.modules.head.Detect           [1, [256, 512, 512]]          \n",
            "YOLO11m summary: 231 layers, 20,053,779 parameters, 20,053,763 gradients, 68.2 GFLOPs\n",
            "\n",
            "Transferred 643/649 items from pretrained weights\n",
            "Freezing layer 'model.23.dfl.conv.weight'\n",
            "\u001b[34m\u001b[1mAMP: \u001b[0mrunning Automatic Mixed Precision (AMP) checks...\n",
            "Downloading https://github.com/ultralytics/assets/releases/download/v8.3.0/yolo11n.pt to 'yolo11n.pt'...\n"
          ]
        },
        {
          "output_type": "stream",
          "name": "stderr",
          "text": [
            "100%|██████████| 5.35M/5.35M [00:00<00:00, 250MB/s]\n"
          ]
        },
        {
          "output_type": "stream",
          "name": "stdout",
          "text": [
            "\u001b[34m\u001b[1mAMP: \u001b[0mchecks passed ✅\n",
            "\u001b[34m\u001b[1mtrain: \u001b[0mFast image access ✅ (ping: 0.0±0.0 ms, read: 18.9±4.1 MB/s, size: 35.4 KB)\n"
          ]
        },
        {
          "output_type": "stream",
          "name": "stderr",
          "text": [
            "\u001b[34m\u001b[1mtrain: \u001b[0mScanning /content/cigarette-3/train/labels... 1623 images, 2 backgrounds, 0 corrupt: 100%|██████████| 1623/1623 [00:01<00:00, 1052.38it/s]\n"
          ]
        },
        {
          "output_type": "stream",
          "name": "stdout",
          "text": [
            "\u001b[34m\u001b[1mtrain: \u001b[0mNew cache created: /content/cigarette-3/train/labels.cache\n",
            "WARNING ⚠️ cache='ram' may produce non-deterministic training results. Consider cache='disk' as a deterministic alternative if your disk space allows.\n"
          ]
        },
        {
          "output_type": "stream",
          "name": "stderr",
          "text": [
            "\u001b[34m\u001b[1mtrain: \u001b[0mCaching images (1.9GB RAM): 100%|██████████| 1623/1623 [00:04<00:00, 402.97it/s]\n"
          ]
        },
        {
          "output_type": "stream",
          "name": "stdout",
          "text": [
            "\u001b[34m\u001b[1malbumentations: \u001b[0mBlur(p=0.01, blur_limit=(3, 7)), MedianBlur(p=0.01, blur_limit=(3, 7)), ToGray(p=0.01, method='weighted_average', num_output_channels=3), CLAHE(p=0.01, clip_limit=(1.0, 4.0), tile_grid_size=(8, 8))\n",
            "\u001b[34m\u001b[1mval: \u001b[0mFast image access ✅ (ping: 0.0±0.0 ms, read: 74.1±119.0 MB/s, size: 39.6 KB)\n"
          ]
        },
        {
          "output_type": "stream",
          "name": "stderr",
          "text": [
            "\u001b[34m\u001b[1mval: \u001b[0mScanning /content/cigarette-3/valid/labels... 155 images, 0 backgrounds, 0 corrupt: 100%|██████████| 155/155 [00:00<00:00, 627.47it/s]"
          ]
        },
        {
          "output_type": "stream",
          "name": "stdout",
          "text": [
            "\u001b[34m\u001b[1mval: \u001b[0mNew cache created: /content/cigarette-3/valid/labels.cache\n"
          ]
        },
        {
          "output_type": "stream",
          "name": "stderr",
          "text": [
            "\n"
          ]
        },
        {
          "output_type": "stream",
          "name": "stdout",
          "text": [
            "WARNING ⚠️ cache='ram' may produce non-deterministic training results. Consider cache='disk' as a deterministic alternative if your disk space allows.\n"
          ]
        },
        {
          "output_type": "stream",
          "name": "stderr",
          "text": [
            "\u001b[34m\u001b[1mval: \u001b[0mCaching images (0.2GB RAM): 100%|██████████| 155/155 [00:01<00:00, 113.92it/s]\n"
          ]
        },
        {
          "output_type": "stream",
          "name": "stdout",
          "text": [
            "Plotting labels to runs/detect/train/labels.jpg... \n",
            "\u001b[34m\u001b[1moptimizer:\u001b[0m SGD(lr=0.001, momentum=0.937) with parameter groups 106 weight(decay=0.0), 113 weight(decay=0.0005), 112 bias(decay=0.0)\n",
            "Image sizes 640 train, 640 val\n",
            "Using 2 dataloader workers\n",
            "Logging results to \u001b[1mruns/detect/train\u001b[0m\n",
            "Starting training for 30 epochs...\n",
            "\n",
            "      Epoch    GPU_mem   box_loss   cls_loss   dfl_loss  Instances       Size\n"
          ]
        },
        {
          "output_type": "stream",
          "name": "stderr",
          "text": [
            "       1/30      7.91G      2.554       4.17      2.197         10        640: 100%|██████████| 102/102 [00:57<00:00,  1.78it/s]\n",
            "                 Class     Images  Instances      Box(P          R      mAP50  mAP50-95): 100%|██████████| 5/5 [00:03<00:00,  1.39it/s]"
          ]
        },
        {
          "output_type": "stream",
          "name": "stdout",
          "text": [
            "                   all        155        156       0.54      0.414        0.4      0.194\n"
          ]
        },
        {
          "output_type": "stream",
          "name": "stderr",
          "text": [
            "\n"
          ]
        },
        {
          "output_type": "stream",
          "name": "stdout",
          "text": [
            "\n",
            "      Epoch    GPU_mem   box_loss   cls_loss   dfl_loss  Instances       Size\n"
          ]
        },
        {
          "output_type": "stream",
          "name": "stderr",
          "text": [
            "       2/30      8.09G      2.247      2.579      1.947         11        640: 100%|██████████| 102/102 [00:55<00:00,  1.85it/s]\n",
            "                 Class     Images  Instances      Box(P          R      mAP50  mAP50-95): 100%|██████████| 5/5 [00:02<00:00,  2.30it/s]"
          ]
        },
        {
          "output_type": "stream",
          "name": "stdout",
          "text": [
            "                   all        155        156      0.585      0.551      0.597      0.278\n"
          ]
        },
        {
          "output_type": "stream",
          "name": "stderr",
          "text": [
            "\n"
          ]
        },
        {
          "output_type": "stream",
          "name": "stdout",
          "text": [
            "\n",
            "      Epoch    GPU_mem   box_loss   cls_loss   dfl_loss  Instances       Size\n"
          ]
        },
        {
          "output_type": "stream",
          "name": "stderr",
          "text": [
            "       3/30      8.05G      2.056      2.203      1.731         11        640: 100%|██████████| 102/102 [00:55<00:00,  1.84it/s]\n",
            "                 Class     Images  Instances      Box(P          R      mAP50  mAP50-95): 100%|██████████| 5/5 [00:02<00:00,  2.29it/s]"
          ]
        },
        {
          "output_type": "stream",
          "name": "stdout",
          "text": [
            "                   all        155        156      0.767      0.577      0.674      0.333\n"
          ]
        },
        {
          "output_type": "stream",
          "name": "stderr",
          "text": [
            "\n"
          ]
        },
        {
          "output_type": "stream",
          "name": "stdout",
          "text": [
            "\n",
            "      Epoch    GPU_mem   box_loss   cls_loss   dfl_loss  Instances       Size\n"
          ]
        },
        {
          "output_type": "stream",
          "name": "stderr",
          "text": [
            "       4/30      8.07G      1.964      1.981      1.623         16        640: 100%|██████████| 102/102 [00:55<00:00,  1.85it/s]\n",
            "                 Class     Images  Instances      Box(P          R      mAP50  mAP50-95): 100%|██████████| 5/5 [00:02<00:00,  2.22it/s]"
          ]
        },
        {
          "output_type": "stream",
          "name": "stdout",
          "text": [
            "                   all        155        156       0.73      0.573      0.709      0.339\n"
          ]
        },
        {
          "output_type": "stream",
          "name": "stderr",
          "text": [
            "\n"
          ]
        },
        {
          "output_type": "stream",
          "name": "stdout",
          "text": [
            "\n",
            "      Epoch    GPU_mem   box_loss   cls_loss   dfl_loss  Instances       Size\n"
          ]
        },
        {
          "output_type": "stream",
          "name": "stderr",
          "text": [
            "       5/30      8.09G      1.916      1.859      1.587         12        640: 100%|██████████| 102/102 [00:55<00:00,  1.84it/s]\n",
            "                 Class     Images  Instances      Box(P          R      mAP50  mAP50-95): 100%|██████████| 5/5 [00:02<00:00,  2.31it/s]"
          ]
        },
        {
          "output_type": "stream",
          "name": "stdout",
          "text": [
            "                   all        155        156      0.768      0.641      0.735      0.368\n"
          ]
        },
        {
          "output_type": "stream",
          "name": "stderr",
          "text": [
            "\n"
          ]
        },
        {
          "output_type": "stream",
          "name": "stdout",
          "text": [
            "\n",
            "      Epoch    GPU_mem   box_loss   cls_loss   dfl_loss  Instances       Size\n"
          ]
        },
        {
          "output_type": "stream",
          "name": "stderr",
          "text": [
            "       6/30      8.08G      1.852      1.696      1.539         10        640: 100%|██████████| 102/102 [00:55<00:00,  1.85it/s]\n",
            "                 Class     Images  Instances      Box(P          R      mAP50  mAP50-95): 100%|██████████| 5/5 [00:02<00:00,  2.15it/s]"
          ]
        },
        {
          "output_type": "stream",
          "name": "stdout",
          "text": [
            "                   all        155        156      0.835      0.715      0.794      0.394\n"
          ]
        },
        {
          "output_type": "stream",
          "name": "stderr",
          "text": [
            "\n"
          ]
        },
        {
          "output_type": "stream",
          "name": "stdout",
          "text": [
            "\n",
            "      Epoch    GPU_mem   box_loss   cls_loss   dfl_loss  Instances       Size\n"
          ]
        },
        {
          "output_type": "stream",
          "name": "stderr",
          "text": [
            "       7/30       8.1G      1.829      1.649      1.513         11        640: 100%|██████████| 102/102 [00:54<00:00,  1.86it/s]\n",
            "                 Class     Images  Instances      Box(P          R      mAP50  mAP50-95): 100%|██████████| 5/5 [00:02<00:00,  2.32it/s]"
          ]
        },
        {
          "output_type": "stream",
          "name": "stdout",
          "text": [
            "                   all        155        156      0.788      0.667      0.758      0.367\n"
          ]
        },
        {
          "output_type": "stream",
          "name": "stderr",
          "text": [
            "\n"
          ]
        },
        {
          "output_type": "stream",
          "name": "stdout",
          "text": [
            "\n",
            "      Epoch    GPU_mem   box_loss   cls_loss   dfl_loss  Instances       Size\n"
          ]
        },
        {
          "output_type": "stream",
          "name": "stderr",
          "text": [
            "       8/30      8.08G      1.775      1.535      1.482         10        640: 100%|██████████| 102/102 [00:55<00:00,  1.85it/s]\n",
            "                 Class     Images  Instances      Box(P          R      mAP50  mAP50-95): 100%|██████████| 5/5 [00:02<00:00,  2.31it/s]"
          ]
        },
        {
          "output_type": "stream",
          "name": "stdout",
          "text": [
            "                   all        155        156      0.738      0.763       0.81      0.413\n"
          ]
        },
        {
          "output_type": "stream",
          "name": "stderr",
          "text": [
            "\n"
          ]
        },
        {
          "output_type": "stream",
          "name": "stdout",
          "text": [
            "\n",
            "      Epoch    GPU_mem   box_loss   cls_loss   dfl_loss  Instances       Size\n"
          ]
        },
        {
          "output_type": "stream",
          "name": "stderr",
          "text": [
            "       9/30       8.1G       1.75      1.519      1.441          9        640: 100%|██████████| 102/102 [00:55<00:00,  1.85it/s]\n",
            "                 Class     Images  Instances      Box(P          R      mAP50  mAP50-95): 100%|██████████| 5/5 [00:02<00:00,  2.32it/s]"
          ]
        },
        {
          "output_type": "stream",
          "name": "stdout",
          "text": [
            "                   all        155        156      0.906      0.677      0.812      0.411\n"
          ]
        },
        {
          "output_type": "stream",
          "name": "stderr",
          "text": [
            "\n"
          ]
        },
        {
          "output_type": "stream",
          "name": "stdout",
          "text": [
            "\n",
            "      Epoch    GPU_mem   box_loss   cls_loss   dfl_loss  Instances       Size\n"
          ]
        },
        {
          "output_type": "stream",
          "name": "stderr",
          "text": [
            "      10/30      8.07G      1.746      1.491      1.456         15        640: 100%|██████████| 102/102 [00:55<00:00,  1.85it/s]\n",
            "                 Class     Images  Instances      Box(P          R      mAP50  mAP50-95): 100%|██████████| 5/5 [00:02<00:00,  2.31it/s]"
          ]
        },
        {
          "output_type": "stream",
          "name": "stdout",
          "text": [
            "                   all        155        156      0.806      0.756       0.81      0.407\n"
          ]
        },
        {
          "output_type": "stream",
          "name": "stderr",
          "text": [
            "\n"
          ]
        },
        {
          "output_type": "stream",
          "name": "stdout",
          "text": [
            "\n",
            "      Epoch    GPU_mem   box_loss   cls_loss   dfl_loss  Instances       Size\n"
          ]
        },
        {
          "output_type": "stream",
          "name": "stderr",
          "text": [
            "      11/30       8.1G      1.703      1.396      1.418         11        640: 100%|██████████| 102/102 [00:54<00:00,  1.86it/s]\n",
            "                 Class     Images  Instances      Box(P          R      mAP50  mAP50-95): 100%|██████████| 5/5 [00:02<00:00,  2.22it/s]"
          ]
        },
        {
          "output_type": "stream",
          "name": "stdout",
          "text": [
            "                   all        155        156      0.863      0.727      0.825      0.402\n"
          ]
        },
        {
          "output_type": "stream",
          "name": "stderr",
          "text": [
            "\n"
          ]
        },
        {
          "output_type": "stream",
          "name": "stdout",
          "text": [
            "\n",
            "      Epoch    GPU_mem   box_loss   cls_loss   dfl_loss  Instances       Size\n"
          ]
        },
        {
          "output_type": "stream",
          "name": "stderr",
          "text": [
            "      12/30      8.07G      1.662      1.399        1.4         10        640: 100%|██████████| 102/102 [00:55<00:00,  1.85it/s]\n",
            "                 Class     Images  Instances      Box(P          R      mAP50  mAP50-95): 100%|██████████| 5/5 [00:02<00:00,  2.30it/s]"
          ]
        },
        {
          "output_type": "stream",
          "name": "stdout",
          "text": [
            "                   all        155        156      0.862      0.737      0.819      0.409\n"
          ]
        },
        {
          "output_type": "stream",
          "name": "stderr",
          "text": [
            "\n"
          ]
        },
        {
          "output_type": "stream",
          "name": "stdout",
          "text": [
            "\n",
            "      Epoch    GPU_mem   box_loss   cls_loss   dfl_loss  Instances       Size\n"
          ]
        },
        {
          "output_type": "stream",
          "name": "stderr",
          "text": [
            "      13/30      8.09G      1.645      1.287      1.376         15        640: 100%|██████████| 102/102 [00:54<00:00,  1.86it/s]\n",
            "                 Class     Images  Instances      Box(P          R      mAP50  mAP50-95): 100%|██████████| 5/5 [00:02<00:00,  2.15it/s]"
          ]
        },
        {
          "output_type": "stream",
          "name": "stdout",
          "text": [
            "                   all        155        156      0.857      0.776      0.829      0.448\n"
          ]
        },
        {
          "output_type": "stream",
          "name": "stderr",
          "text": [
            "\n"
          ]
        },
        {
          "output_type": "stream",
          "name": "stdout",
          "text": [
            "\n",
            "      Epoch    GPU_mem   box_loss   cls_loss   dfl_loss  Instances       Size\n"
          ]
        },
        {
          "output_type": "stream",
          "name": "stderr",
          "text": [
            "      14/30      8.07G      1.609      1.291      1.366         10        640: 100%|██████████| 102/102 [00:54<00:00,  1.86it/s]\n",
            "                 Class     Images  Instances      Box(P          R      mAP50  mAP50-95): 100%|██████████| 5/5 [00:02<00:00,  2.33it/s]"
          ]
        },
        {
          "output_type": "stream",
          "name": "stdout",
          "text": [
            "                   all        155        156      0.891      0.724      0.838       0.43\n"
          ]
        },
        {
          "output_type": "stream",
          "name": "stderr",
          "text": [
            "\n"
          ]
        },
        {
          "output_type": "stream",
          "name": "stdout",
          "text": [
            "\n",
            "      Epoch    GPU_mem   box_loss   cls_loss   dfl_loss  Instances       Size\n"
          ]
        },
        {
          "output_type": "stream",
          "name": "stderr",
          "text": [
            "      15/30       8.1G      1.593      1.247      1.367          7        640: 100%|██████████| 102/102 [00:55<00:00,  1.85it/s]\n",
            "                 Class     Images  Instances      Box(P          R      mAP50  mAP50-95): 100%|██████████| 5/5 [00:02<00:00,  2.33it/s]"
          ]
        },
        {
          "output_type": "stream",
          "name": "stdout",
          "text": [
            "                   all        155        156      0.849      0.763       0.84      0.424\n"
          ]
        },
        {
          "output_type": "stream",
          "name": "stderr",
          "text": [
            "\n"
          ]
        },
        {
          "output_type": "stream",
          "name": "stdout",
          "text": [
            "\n",
            "      Epoch    GPU_mem   box_loss   cls_loss   dfl_loss  Instances       Size\n"
          ]
        },
        {
          "output_type": "stream",
          "name": "stderr",
          "text": [
            "      16/30      8.07G      1.553      1.187      1.331         17        640: 100%|██████████| 102/102 [00:55<00:00,  1.85it/s]\n",
            "                 Class     Images  Instances      Box(P          R      mAP50  mAP50-95): 100%|██████████| 5/5 [00:02<00:00,  2.32it/s]"
          ]
        },
        {
          "output_type": "stream",
          "name": "stdout",
          "text": [
            "                   all        155        156       0.89      0.727      0.841       0.42\n"
          ]
        },
        {
          "output_type": "stream",
          "name": "stderr",
          "text": [
            "\n"
          ]
        },
        {
          "output_type": "stream",
          "name": "stdout",
          "text": [
            "\n",
            "      Epoch    GPU_mem   box_loss   cls_loss   dfl_loss  Instances       Size\n"
          ]
        },
        {
          "output_type": "stream",
          "name": "stderr",
          "text": [
            "      17/30      8.09G      1.521      1.161      1.307         11        640: 100%|██████████| 102/102 [00:55<00:00,  1.84it/s]\n",
            "                 Class     Images  Instances      Box(P          R      mAP50  mAP50-95): 100%|██████████| 5/5 [00:02<00:00,  2.33it/s]"
          ]
        },
        {
          "output_type": "stream",
          "name": "stdout",
          "text": [
            "                   all        155        156      0.881      0.782      0.857      0.432\n"
          ]
        },
        {
          "output_type": "stream",
          "name": "stderr",
          "text": [
            "\n"
          ]
        },
        {
          "output_type": "stream",
          "name": "stdout",
          "text": [
            "\n",
            "      Epoch    GPU_mem   box_loss   cls_loss   dfl_loss  Instances       Size\n"
          ]
        },
        {
          "output_type": "stream",
          "name": "stderr",
          "text": [
            "      18/30      8.06G      1.497      1.135       1.29          9        640: 100%|██████████| 102/102 [00:57<00:00,  1.78it/s]\n",
            "                 Class     Images  Instances      Box(P          R      mAP50  mAP50-95): 100%|██████████| 5/5 [00:02<00:00,  2.12it/s]"
          ]
        },
        {
          "output_type": "stream",
          "name": "stdout",
          "text": [
            "                   all        155        156      0.891      0.744      0.837      0.441\n",
            "\u001b[34m\u001b[1mEarlyStopping: \u001b[0mTraining stopped early as no improvement observed in last 5 epochs. Best results observed at epoch 13, best model saved as best.pt.\n",
            "To update EarlyStopping(patience=5) pass a new patience value, i.e. `patience=300` or use `patience=0` to disable EarlyStopping.\n"
          ]
        },
        {
          "output_type": "stream",
          "name": "stderr",
          "text": [
            "\n"
          ]
        },
        {
          "output_type": "stream",
          "name": "stdout",
          "text": [
            "\n",
            "18 epochs completed in 0.293 hours.\n",
            "Optimizer stripped from runs/detect/train/weights/last.pt, 40.5MB\n",
            "Optimizer stripped from runs/detect/train/weights/best.pt, 40.5MB\n",
            "\n",
            "Validating runs/detect/train/weights/best.pt...\n",
            "Ultralytics 8.3.168 🚀 Python-3.11.13 torch-2.6.0+cu124 CUDA:0 (Tesla T4, 15095MiB)\n",
            "YOLO11m summary (fused): 125 layers, 20,030,803 parameters, 0 gradients, 67.6 GFLOPs\n"
          ]
        },
        {
          "output_type": "stream",
          "name": "stderr",
          "text": [
            "                 Class     Images  Instances      Box(P          R      mAP50  mAP50-95): 100%|██████████| 5/5 [00:03<00:00,  1.33it/s]\n"
          ]
        },
        {
          "output_type": "stream",
          "name": "stdout",
          "text": [
            "                   all        155        156      0.858      0.774      0.828       0.45\n",
            "Speed: 0.3ms preprocess, 11.1ms inference, 0.0ms loss, 5.7ms postprocess per image\n",
            "Results saved to \u001b[1mruns/detect/train\u001b[0m\n"
          ]
        },
        {
          "output_type": "execute_result",
          "data": {
            "text/plain": [
              "ultralytics.utils.metrics.DetMetrics object with attributes:\n",
              "\n",
              "ap_class_index: array([0])\n",
              "box: ultralytics.utils.metrics.Metric object\n",
              "confusion_matrix: <ultralytics.utils.metrics.ConfusionMatrix object at 0x7b5ebe884b50>\n",
              "curves: ['Precision-Recall(B)', 'F1-Confidence(B)', 'Precision-Confidence(B)', 'Recall-Confidence(B)']\n",
              "curves_results: [[array([          0,    0.001001,    0.002002,    0.003003,    0.004004,    0.005005,    0.006006,    0.007007,    0.008008,    0.009009,     0.01001,    0.011011,    0.012012,    0.013013,    0.014014,    0.015015,    0.016016,    0.017017,    0.018018,    0.019019,     0.02002,    0.021021,    0.022022,    0.023023,\n",
              "          0.024024,    0.025025,    0.026026,    0.027027,    0.028028,    0.029029,     0.03003,    0.031031,    0.032032,    0.033033,    0.034034,    0.035035,    0.036036,    0.037037,    0.038038,    0.039039,     0.04004,    0.041041,    0.042042,    0.043043,    0.044044,    0.045045,    0.046046,    0.047047,\n",
              "          0.048048,    0.049049,     0.05005,    0.051051,    0.052052,    0.053053,    0.054054,    0.055055,    0.056056,    0.057057,    0.058058,    0.059059,     0.06006,    0.061061,    0.062062,    0.063063,    0.064064,    0.065065,    0.066066,    0.067067,    0.068068,    0.069069,     0.07007,    0.071071,\n",
              "          0.072072,    0.073073,    0.074074,    0.075075,    0.076076,    0.077077,    0.078078,    0.079079,     0.08008,    0.081081,    0.082082,    0.083083,    0.084084,    0.085085,    0.086086,    0.087087,    0.088088,    0.089089,     0.09009,    0.091091,    0.092092,    0.093093,    0.094094,    0.095095,\n",
              "          0.096096,    0.097097,    0.098098,    0.099099,      0.1001,      0.1011,      0.1021,      0.1031,      0.1041,     0.10511,     0.10611,     0.10711,     0.10811,     0.10911,     0.11011,     0.11111,     0.11211,     0.11311,     0.11411,     0.11512,     0.11612,     0.11712,     0.11812,     0.11912,\n",
              "           0.12012,     0.12112,     0.12212,     0.12312,     0.12412,     0.12513,     0.12613,     0.12713,     0.12813,     0.12913,     0.13013,     0.13113,     0.13213,     0.13313,     0.13413,     0.13514,     0.13614,     0.13714,     0.13814,     0.13914,     0.14014,     0.14114,     0.14214,     0.14314,\n",
              "           0.14414,     0.14515,     0.14615,     0.14715,     0.14815,     0.14915,     0.15015,     0.15115,     0.15215,     0.15315,     0.15415,     0.15516,     0.15616,     0.15716,     0.15816,     0.15916,     0.16016,     0.16116,     0.16216,     0.16316,     0.16416,     0.16517,     0.16617,     0.16717,\n",
              "           0.16817,     0.16917,     0.17017,     0.17117,     0.17217,     0.17317,     0.17417,     0.17518,     0.17618,     0.17718,     0.17818,     0.17918,     0.18018,     0.18118,     0.18218,     0.18318,     0.18418,     0.18519,     0.18619,     0.18719,     0.18819,     0.18919,     0.19019,     0.19119,\n",
              "           0.19219,     0.19319,     0.19419,      0.1952,      0.1962,      0.1972,      0.1982,      0.1992,      0.2002,      0.2012,      0.2022,      0.2032,      0.2042,     0.20521,     0.20621,     0.20721,     0.20821,     0.20921,     0.21021,     0.21121,     0.21221,     0.21321,     0.21421,     0.21522,\n",
              "           0.21622,     0.21722,     0.21822,     0.21922,     0.22022,     0.22122,     0.22222,     0.22322,     0.22422,     0.22523,     0.22623,     0.22723,     0.22823,     0.22923,     0.23023,     0.23123,     0.23223,     0.23323,     0.23423,     0.23524,     0.23624,     0.23724,     0.23824,     0.23924,\n",
              "           0.24024,     0.24124,     0.24224,     0.24324,     0.24424,     0.24525,     0.24625,     0.24725,     0.24825,     0.24925,     0.25025,     0.25125,     0.25225,     0.25325,     0.25425,     0.25526,     0.25626,     0.25726,     0.25826,     0.25926,     0.26026,     0.26126,     0.26226,     0.26326,\n",
              "           0.26426,     0.26527,     0.26627,     0.26727,     0.26827,     0.26927,     0.27027,     0.27127,     0.27227,     0.27327,     0.27427,     0.27528,     0.27628,     0.27728,     0.27828,     0.27928,     0.28028,     0.28128,     0.28228,     0.28328,     0.28428,     0.28529,     0.28629,     0.28729,\n",
              "           0.28829,     0.28929,     0.29029,     0.29129,     0.29229,     0.29329,     0.29429,      0.2953,      0.2963,      0.2973,      0.2983,      0.2993,      0.3003,      0.3013,      0.3023,      0.3033,      0.3043,     0.30531,     0.30631,     0.30731,     0.30831,     0.30931,     0.31031,     0.31131,\n",
              "           0.31231,     0.31331,     0.31431,     0.31532,     0.31632,     0.31732,     0.31832,     0.31932,     0.32032,     0.32132,     0.32232,     0.32332,     0.32432,     0.32533,     0.32633,     0.32733,     0.32833,     0.32933,     0.33033,     0.33133,     0.33233,     0.33333,     0.33433,     0.33534,\n",
              "           0.33634,     0.33734,     0.33834,     0.33934,     0.34034,     0.34134,     0.34234,     0.34334,     0.34434,     0.34535,     0.34635,     0.34735,     0.34835,     0.34935,     0.35035,     0.35135,     0.35235,     0.35335,     0.35435,     0.35536,     0.35636,     0.35736,     0.35836,     0.35936,\n",
              "           0.36036,     0.36136,     0.36236,     0.36336,     0.36436,     0.36537,     0.36637,     0.36737,     0.36837,     0.36937,     0.37037,     0.37137,     0.37237,     0.37337,     0.37437,     0.37538,     0.37638,     0.37738,     0.37838,     0.37938,     0.38038,     0.38138,     0.38238,     0.38338,\n",
              "           0.38438,     0.38539,     0.38639,     0.38739,     0.38839,     0.38939,     0.39039,     0.39139,     0.39239,     0.39339,     0.39439,      0.3954,      0.3964,      0.3974,      0.3984,      0.3994,      0.4004,      0.4014,      0.4024,      0.4034,      0.4044,     0.40541,     0.40641,     0.40741,\n",
              "           0.40841,     0.40941,     0.41041,     0.41141,     0.41241,     0.41341,     0.41441,     0.41542,     0.41642,     0.41742,     0.41842,     0.41942,     0.42042,     0.42142,     0.42242,     0.42342,     0.42442,     0.42543,     0.42643,     0.42743,     0.42843,     0.42943,     0.43043,     0.43143,\n",
              "           0.43243,     0.43343,     0.43443,     0.43544,     0.43644,     0.43744,     0.43844,     0.43944,     0.44044,     0.44144,     0.44244,     0.44344,     0.44444,     0.44545,     0.44645,     0.44745,     0.44845,     0.44945,     0.45045,     0.45145,     0.45245,     0.45345,     0.45445,     0.45546,\n",
              "           0.45646,     0.45746,     0.45846,     0.45946,     0.46046,     0.46146,     0.46246,     0.46346,     0.46446,     0.46547,     0.46647,     0.46747,     0.46847,     0.46947,     0.47047,     0.47147,     0.47247,     0.47347,     0.47447,     0.47548,     0.47648,     0.47748,     0.47848,     0.47948,\n",
              "           0.48048,     0.48148,     0.48248,     0.48348,     0.48448,     0.48549,     0.48649,     0.48749,     0.48849,     0.48949,     0.49049,     0.49149,     0.49249,     0.49349,     0.49449,      0.4955,      0.4965,      0.4975,      0.4985,      0.4995,      0.5005,      0.5015,      0.5025,      0.5035,\n",
              "            0.5045,     0.50551,     0.50651,     0.50751,     0.50851,     0.50951,     0.51051,     0.51151,     0.51251,     0.51351,     0.51451,     0.51552,     0.51652,     0.51752,     0.51852,     0.51952,     0.52052,     0.52152,     0.52252,     0.52352,     0.52452,     0.52553,     0.52653,     0.52753,\n",
              "           0.52853,     0.52953,     0.53053,     0.53153,     0.53253,     0.53353,     0.53453,     0.53554,     0.53654,     0.53754,     0.53854,     0.53954,     0.54054,     0.54154,     0.54254,     0.54354,     0.54454,     0.54555,     0.54655,     0.54755,     0.54855,     0.54955,     0.55055,     0.55155,\n",
              "           0.55255,     0.55355,     0.55455,     0.55556,     0.55656,     0.55756,     0.55856,     0.55956,     0.56056,     0.56156,     0.56256,     0.56356,     0.56456,     0.56557,     0.56657,     0.56757,     0.56857,     0.56957,     0.57057,     0.57157,     0.57257,     0.57357,     0.57457,     0.57558,\n",
              "           0.57658,     0.57758,     0.57858,     0.57958,     0.58058,     0.58158,     0.58258,     0.58358,     0.58458,     0.58559,     0.58659,     0.58759,     0.58859,     0.58959,     0.59059,     0.59159,     0.59259,     0.59359,     0.59459,      0.5956,      0.5966,      0.5976,      0.5986,      0.5996,\n",
              "            0.6006,      0.6016,      0.6026,      0.6036,      0.6046,     0.60561,     0.60661,     0.60761,     0.60861,     0.60961,     0.61061,     0.61161,     0.61261,     0.61361,     0.61461,     0.61562,     0.61662,     0.61762,     0.61862,     0.61962,     0.62062,     0.62162,     0.62262,     0.62362,\n",
              "           0.62462,     0.62563,     0.62663,     0.62763,     0.62863,     0.62963,     0.63063,     0.63163,     0.63263,     0.63363,     0.63463,     0.63564,     0.63664,     0.63764,     0.63864,     0.63964,     0.64064,     0.64164,     0.64264,     0.64364,     0.64464,     0.64565,     0.64665,     0.64765,\n",
              "           0.64865,     0.64965,     0.65065,     0.65165,     0.65265,     0.65365,     0.65465,     0.65566,     0.65666,     0.65766,     0.65866,     0.65966,     0.66066,     0.66166,     0.66266,     0.66366,     0.66466,     0.66567,     0.66667,     0.66767,     0.66867,     0.66967,     0.67067,     0.67167,\n",
              "           0.67267,     0.67367,     0.67467,     0.67568,     0.67668,     0.67768,     0.67868,     0.67968,     0.68068,     0.68168,     0.68268,     0.68368,     0.68468,     0.68569,     0.68669,     0.68769,     0.68869,     0.68969,     0.69069,     0.69169,     0.69269,     0.69369,     0.69469,      0.6957,\n",
              "            0.6967,      0.6977,      0.6987,      0.6997,      0.7007,      0.7017,      0.7027,      0.7037,      0.7047,     0.70571,     0.70671,     0.70771,     0.70871,     0.70971,     0.71071,     0.71171,     0.71271,     0.71371,     0.71471,     0.71572,     0.71672,     0.71772,     0.71872,     0.71972,\n",
              "           0.72072,     0.72172,     0.72272,     0.72372,     0.72472,     0.72573,     0.72673,     0.72773,     0.72873,     0.72973,     0.73073,     0.73173,     0.73273,     0.73373,     0.73473,     0.73574,     0.73674,     0.73774,     0.73874,     0.73974,     0.74074,     0.74174,     0.74274,     0.74374,\n",
              "           0.74474,     0.74575,     0.74675,     0.74775,     0.74875,     0.74975,     0.75075,     0.75175,     0.75275,     0.75375,     0.75475,     0.75576,     0.75676,     0.75776,     0.75876,     0.75976,     0.76076,     0.76176,     0.76276,     0.76376,     0.76476,     0.76577,     0.76677,     0.76777,\n",
              "           0.76877,     0.76977,     0.77077,     0.77177,     0.77277,     0.77377,     0.77477,     0.77578,     0.77678,     0.77778,     0.77878,     0.77978,     0.78078,     0.78178,     0.78278,     0.78378,     0.78478,     0.78579,     0.78679,     0.78779,     0.78879,     0.78979,     0.79079,     0.79179,\n",
              "           0.79279,     0.79379,     0.79479,      0.7958,      0.7968,      0.7978,      0.7988,      0.7998,      0.8008,      0.8018,      0.8028,      0.8038,      0.8048,     0.80581,     0.80681,     0.80781,     0.80881,     0.80981,     0.81081,     0.81181,     0.81281,     0.81381,     0.81481,     0.81582,\n",
              "           0.81682,     0.81782,     0.81882,     0.81982,     0.82082,     0.82182,     0.82282,     0.82382,     0.82482,     0.82583,     0.82683,     0.82783,     0.82883,     0.82983,     0.83083,     0.83183,     0.83283,     0.83383,     0.83483,     0.83584,     0.83684,     0.83784,     0.83884,     0.83984,\n",
              "           0.84084,     0.84184,     0.84284,     0.84384,     0.84484,     0.84585,     0.84685,     0.84785,     0.84885,     0.84985,     0.85085,     0.85185,     0.85285,     0.85385,     0.85485,     0.85586,     0.85686,     0.85786,     0.85886,     0.85986,     0.86086,     0.86186,     0.86286,     0.86386,\n",
              "           0.86486,     0.86587,     0.86687,     0.86787,     0.86887,     0.86987,     0.87087,     0.87187,     0.87287,     0.87387,     0.87487,     0.87588,     0.87688,     0.87788,     0.87888,     0.87988,     0.88088,     0.88188,     0.88288,     0.88388,     0.88488,     0.88589,     0.88689,     0.88789,\n",
              "           0.88889,     0.88989,     0.89089,     0.89189,     0.89289,     0.89389,     0.89489,      0.8959,      0.8969,      0.8979,      0.8989,      0.8999,      0.9009,      0.9019,      0.9029,      0.9039,      0.9049,     0.90591,     0.90691,     0.90791,     0.90891,     0.90991,     0.91091,     0.91191,\n",
              "           0.91291,     0.91391,     0.91491,     0.91592,     0.91692,     0.91792,     0.91892,     0.91992,     0.92092,     0.92192,     0.92292,     0.92392,     0.92492,     0.92593,     0.92693,     0.92793,     0.92893,     0.92993,     0.93093,     0.93193,     0.93293,     0.93393,     0.93493,     0.93594,\n",
              "           0.93694,     0.93794,     0.93894,     0.93994,     0.94094,     0.94194,     0.94294,     0.94394,     0.94494,     0.94595,     0.94695,     0.94795,     0.94895,     0.94995,     0.95095,     0.95195,     0.95295,     0.95395,     0.95495,     0.95596,     0.95696,     0.95796,     0.95896,     0.95996,\n",
              "           0.96096,     0.96196,     0.96296,     0.96396,     0.96496,     0.96597,     0.96697,     0.96797,     0.96897,     0.96997,     0.97097,     0.97197,     0.97297,     0.97397,     0.97497,     0.97598,     0.97698,     0.97798,     0.97898,     0.97998,     0.98098,     0.98198,     0.98298,     0.98398,\n",
              "           0.98498,     0.98599,     0.98699,     0.98799,     0.98899,     0.98999,     0.99099,     0.99199,     0.99299,     0.99399,     0.99499,       0.996,       0.997,       0.998,       0.999,           1]), array([[          1,           1,           1,           1,           1,           1,           1,           1,           1,           1,           1,           1,           1,           1,           1,           1,           1,           1,           1,           1,           1,           1,           1,\n",
              "                  1,           1,           1,           1,           1,           1,           1,           1,           1,           1,           1,           1,           1,           1,           1,           1,           1,           1,           1,           1,           1,           1,           1,\n",
              "                  1,           1,           1,           1,           1,           1,     0.96078,     0.96078,     0.96078,     0.96078,     0.96078,     0.96078,     0.96078,     0.96078,     0.96078,     0.96078,     0.96078,     0.96078,     0.96078,     0.96078,     0.96078,     0.96078,     0.96078,\n",
              "            0.96078,     0.96078,     0.96078,     0.96078,     0.96078,     0.96078,     0.96078,     0.96078,     0.96078,     0.96078,     0.96078,     0.96078,     0.96078,     0.96078,     0.96078,     0.96078,     0.96078,     0.96078,     0.96078,     0.96078,     0.96078,     0.96078,     0.96078,\n",
              "            0.96078,     0.96078,     0.96078,     0.96078,     0.96078,     0.96078,     0.96078,     0.96078,     0.96078,     0.96078,     0.96078,     0.96078,     0.96078,     0.96078,     0.96078,     0.96078,     0.96078,     0.96078,     0.96078,     0.96078,     0.96078,     0.96078,     0.96078,\n",
              "            0.96078,     0.96078,     0.96078,     0.96078,     0.96078,     0.96078,     0.96078,     0.96078,     0.96078,     0.96078,     0.96078,     0.96078,     0.96078,     0.96078,     0.96078,     0.96078,     0.96078,     0.96078,     0.96078,     0.96078,     0.96078,     0.96078,     0.96078,\n",
              "            0.96078,     0.96078,     0.96078,     0.96078,     0.96078,     0.96078,     0.96078,     0.96078,     0.96078,     0.96078,     0.96078,     0.96078,     0.96078,     0.96078,     0.96078,     0.96078,     0.96078,     0.96078,     0.96078,     0.96078,     0.96078,     0.96078,     0.96078,\n",
              "            0.96078,     0.96078,     0.96078,     0.96078,     0.96078,     0.96078,     0.96078,     0.96078,     0.96078,     0.96078,     0.96078,     0.96078,     0.96078,     0.96078,     0.96078,     0.96078,     0.96078,     0.96078,     0.96078,     0.96078,     0.96078,     0.96078,     0.96078,\n",
              "            0.96078,     0.96078,     0.96078,     0.96078,     0.96078,     0.96078,     0.96078,     0.96078,     0.96078,     0.96078,     0.96078,     0.96078,     0.96078,     0.96078,     0.96078,     0.96078,     0.96078,     0.96078,     0.96078,     0.96078,     0.96078,     0.96078,     0.96078,\n",
              "            0.96078,     0.96078,     0.96078,     0.96078,     0.96078,     0.96078,     0.96078,     0.96078,     0.96078,     0.96078,     0.96078,     0.96078,     0.96078,     0.96078,     0.96078,     0.96078,     0.96078,     0.96078,     0.96078,     0.96078,     0.96078,     0.96078,     0.96078,\n",
              "            0.96078,     0.96078,     0.96078,     0.96078,     0.96078,     0.96078,     0.96078,     0.96078,     0.96078,     0.96078,     0.96078,     0.96078,     0.96078,     0.96078,     0.96078,     0.96078,     0.96078,     0.96078,     0.96078,     0.96078,     0.96078,     0.96078,     0.96078,\n",
              "            0.96078,     0.96078,     0.96078,     0.96078,     0.96078,     0.96078,     0.96078,     0.96078,     0.96078,     0.96078,     0.96078,     0.96078,     0.96078,     0.96078,     0.96078,     0.96078,     0.96078,     0.96078,     0.96078,     0.96078,     0.96078,     0.96078,     0.96078,\n",
              "            0.96078,     0.96078,     0.96078,     0.96078,     0.96078,     0.96078,     0.96078,     0.96078,     0.96078,     0.96078,     0.96078,     0.96078,     0.96078,     0.96078,     0.96078,     0.96078,     0.96078,     0.96078,     0.96078,     0.96078,     0.96078,     0.96078,     0.96078,\n",
              "            0.96078,     0.96078,     0.96078,     0.96078,     0.96078,     0.96078,     0.96078,     0.96078,     0.96078,     0.96078,     0.96078,     0.96078,     0.96078,     0.96078,     0.96078,     0.94545,     0.94545,     0.94545,     0.94545,     0.94545,     0.94545,     0.94545,     0.94545,\n",
              "            0.94545,     0.94545,     0.94545,     0.94545,     0.94545,     0.94545,     0.94545,     0.94545,     0.94545,     0.94545,     0.94545,     0.94505,     0.94505,     0.94505,     0.94505,     0.94505,     0.94505,     0.94505,     0.94505,     0.94505,     0.94505,     0.94505,     0.94505,\n",
              "            0.94505,     0.94505,     0.94505,     0.94505,     0.94505,     0.94505,     0.94505,     0.94505,     0.94505,     0.94505,     0.94505,     0.94505,     0.94505,     0.94505,     0.94505,     0.94505,     0.94505,     0.94505,     0.94505,     0.94505,     0.94505,     0.94505,     0.94505,\n",
              "            0.94505,     0.94505,     0.94505,     0.94505,     0.94505,     0.94505,     0.94505,     0.94505,     0.94505,     0.94505,     0.94505,     0.94505,     0.94505,     0.94505,     0.94505,     0.94505,     0.94505,     0.94505,     0.94505,     0.94505,     0.94505,     0.94505,     0.94505,\n",
              "            0.94505,     0.94505,     0.94505,     0.94505,     0.94505,     0.94505,     0.94505,     0.94505,     0.94505,     0.94505,     0.94505,     0.94505,     0.94505,     0.94505,     0.94505,     0.94505,     0.94505,     0.94505,     0.94505,     0.94505,     0.94505,     0.94505,     0.94505,\n",
              "            0.94505,     0.94505,     0.94505,     0.94505,     0.94505,     0.94505,     0.94505,     0.94505,     0.94505,     0.94505,     0.94505,     0.94505,     0.94505,     0.94505,     0.94505,     0.94505,     0.94505,     0.94505,     0.94505,     0.94505,     0.94505,     0.94505,     0.94505,\n",
              "            0.94505,     0.94505,     0.94505,     0.94505,     0.94505,     0.94505,     0.94505,     0.94505,     0.94505,     0.94505,     0.94505,     0.94505,     0.94505,     0.94505,     0.94505,     0.94505,     0.94505,     0.94505,     0.94505,     0.94505,     0.94505,     0.94505,     0.94505,\n",
              "            0.94505,     0.94505,     0.94505,     0.94505,     0.94505,     0.94505,     0.94505,     0.94505,     0.94505,     0.94505,     0.94505,     0.94505,     0.94505,     0.94505,     0.94505,     0.94505,     0.94505,     0.94505,     0.94505,     0.94505,     0.94505,     0.94505,     0.94505,\n",
              "            0.94505,     0.94505,     0.94505,     0.94505,     0.94505,     0.94505,     0.94505,     0.94505,     0.94505,     0.94505,     0.94505,     0.94505,     0.94505,     0.94505,     0.94505,     0.94505,     0.94505,     0.94505,     0.94505,     0.94505,     0.94505,     0.94505,     0.94505,\n",
              "            0.94505,     0.94505,     0.94505,     0.94505,     0.94505,     0.94505,     0.94505,     0.94505,     0.94505,     0.94505,     0.94505,     0.94505,     0.94505,     0.94505,     0.94505,     0.94505,     0.94505,     0.94505,     0.94505,     0.94505,     0.94505,     0.94505,     0.94505,\n",
              "            0.94505,     0.94505,     0.94505,     0.94505,     0.94505,     0.94505,     0.94505,     0.94505,     0.94505,     0.94505,     0.94505,     0.94505,     0.94505,     0.94505,     0.94505,     0.94505,     0.94505,     0.94505,     0.94505,     0.94505,     0.94505,     0.94505,      0.9375,\n",
              "             0.9375,      0.9375,      0.9375,      0.9375,      0.9375,      0.9375,      0.9375,      0.9375,      0.9375,      0.9375,      0.9375,      0.9375,      0.9375,      0.9375,      0.9375,      0.9375,      0.9375,      0.9375,      0.9375,      0.9375,      0.9375,      0.9375,      0.9375,\n",
              "             0.9375,      0.9375,     0.93204,     0.93204,     0.93204,     0.93204,     0.93204,     0.93204,     0.93204,     0.93204,     0.93204,     0.93204,     0.93204,     0.93204,     0.93204,     0.93204,     0.93204,     0.93204,     0.93204,     0.93204,     0.93204,     0.93204,     0.93204,\n",
              "            0.93204,     0.93204,     0.93204,     0.93204,     0.93204,     0.93204,     0.93204,     0.93204,     0.93204,     0.93204,     0.93204,     0.93204,     0.93204,     0.93204,     0.93204,     0.93204,     0.93204,     0.91743,     0.91743,     0.91743,     0.91743,     0.91743,     0.91743,\n",
              "            0.91743,     0.91743,     0.91743,     0.91743,     0.91743,     0.91743,     0.91743,     0.91743,     0.91743,     0.91743,     0.91743,     0.91743,     0.91743,     0.91743,     0.91743,     0.91743,     0.91743,     0.91743,     0.91743,     0.91743,     0.91071,     0.91071,     0.91071,\n",
              "            0.91071,     0.91071,     0.91071,     0.91071,     0.91071,     0.91071,     0.91071,     0.91071,     0.91071,     0.91071,     0.90833,     0.90833,     0.90833,     0.90833,     0.90833,     0.90833,     0.90833,     0.90833,     0.90833,     0.90833,     0.90833,     0.90833,     0.90833,\n",
              "            0.90833,     0.90833,     0.90833,     0.90833,     0.90833,     0.90833,     0.90833,     0.90833,     0.90833,     0.90833,     0.90833,     0.90833,     0.90833,     0.90833,     0.90833,     0.90833,     0.90833,     0.90833,     0.90833,     0.90833,     0.90833,     0.90833,     0.90833,\n",
              "            0.90833,     0.90833,     0.90833,     0.90833,     0.90833,     0.90833,     0.90833,     0.90833,     0.90833,     0.90244,     0.90244,     0.90244,     0.90244,     0.90244,     0.90244,     0.90244,     0.90244,     0.90244,     0.90244,     0.90244,     0.90244,       0.896,       0.896,\n",
              "              0.896,       0.896,       0.896,       0.896,       0.896,     0.89062,     0.89062,     0.89062,     0.89062,     0.89062,     0.89062,     0.89062,     0.89062,     0.89062,     0.89062,     0.89062,     0.89062,     0.89062,      0.8806,      0.8806,      0.8806,      0.8806,      0.8806,\n",
              "             0.8806,      0.8806,      0.8806,      0.8806,      0.8806,      0.8806,      0.8806,      0.8806,      0.8806,      0.8806,      0.8806,      0.8806,      0.8806,      0.8806,      0.8806,      0.8806,      0.8806,      0.8806,      0.8806,      0.8806,       0.875,       0.875,       0.875,\n",
              "              0.875,       0.875,       0.875,       0.875,     0.86331,     0.86331,     0.86331,     0.86331,     0.86331,     0.86331,     0.85816,     0.85816,     0.85816,     0.85816,     0.85816,     0.85816,     0.80795,     0.80795,     0.80795,     0.80795,     0.80795,     0.80795,     0.80795,\n",
              "             0.7987,      0.7987,      0.7987,      0.7987,      0.7987,      0.7987,     0.78981,     0.78981,     0.78981,     0.78981,     0.78981,     0.78981,     0.78981,      0.7716,      0.7716,      0.7716,      0.7716,      0.7716,      0.7716,     0.72989,     0.72989,     0.72989,     0.72989,\n",
              "            0.72989,     0.72989,     0.72989,     0.72989,     0.72989,     0.72989,     0.72989,     0.72989,     0.72989,     0.70109,     0.70109,     0.70109,     0.70109,     0.70109,     0.70109,     0.70109,     0.70109,     0.70109,     0.70109,     0.70109,     0.70109,     0.70109,     0.68783,\n",
              "            0.68783,     0.68783,     0.68783,     0.68783,     0.68783,     0.66162,     0.66162,     0.66162,     0.66162,     0.66162,     0.66162,     0.63942,     0.63942,     0.63942,     0.63942,     0.63942,     0.63942,     0.63942,     0.63942,     0.63942,     0.63942,     0.63942,     0.63942,\n",
              "            0.63942,     0.62617,     0.62617,     0.62617,     0.62617,     0.62617,     0.62617,     0.62617,     0.55556,     0.55556,     0.55556,     0.55556,     0.55556,     0.55556,     0.51698,     0.51698,     0.51698,     0.51698,     0.51698,     0.51698,     0.51698,     0.51698,     0.51698,\n",
              "            0.51698,     0.51698,     0.51698,     0.51698,     0.48592,     0.48592,     0.48592,     0.48592,     0.48592,     0.48592,     0.47119,     0.47119,     0.47119,     0.47119,     0.47119,     0.47119,     0.47119,     0.45016,     0.45016,     0.45016,     0.45016,     0.45016,     0.45016,\n",
              "            0.44201,     0.44201,     0.44201,     0.44201,     0.44201,     0.44201,     0.43827,     0.43827,     0.43827,     0.43827,     0.43827,     0.43827,     0.43827,     0.40857,     0.40857,     0.40857,     0.40857,     0.40857,     0.40857,      0.3871,      0.3871,      0.3871,      0.3871,\n",
              "             0.3871,      0.3871,      0.3871,     0.34856,     0.34856,     0.34856,     0.34856,     0.34856,     0.34856,     0.23435,     0.23435,     0.23435,     0.23435,     0.23435,     0.23435,     0.12929,     0.12929,     0.12929,     0.12929,     0.12929,     0.12929,     0.12929,     0.10335,\n",
              "            0.10335,     0.10335,     0.10335,     0.10335,     0.10335,     0.09319,    0.091363,    0.089535,    0.087708,    0.085881,    0.084054,    0.082226,    0.080399,    0.078572,    0.076745,    0.074917,     0.07309,    0.071263,    0.069436,    0.067608,    0.065781,    0.063954,    0.062127,\n",
              "           0.060299,    0.058472,    0.056645,    0.054818,     0.05299,    0.051163,    0.049336,    0.047509,    0.045681,    0.043854,    0.042027,      0.0402,    0.038372,    0.036545,    0.034718,    0.032891,    0.031063,    0.029236,    0.027409,    0.025582,    0.023754,    0.021927,      0.0201,\n",
              "           0.018273,    0.016445,    0.014618,    0.012791,    0.010964,   0.0091363,    0.007309,   0.0054818,   0.0036545,   0.0018273,           0]]), 'Recall', 'Precision'], [array([          0,    0.001001,    0.002002,    0.003003,    0.004004,    0.005005,    0.006006,    0.007007,    0.008008,    0.009009,     0.01001,    0.011011,    0.012012,    0.013013,    0.014014,    0.015015,    0.016016,    0.017017,    0.018018,    0.019019,     0.02002,    0.021021,    0.022022,    0.023023,\n",
              "          0.024024,    0.025025,    0.026026,    0.027027,    0.028028,    0.029029,     0.03003,    0.031031,    0.032032,    0.033033,    0.034034,    0.035035,    0.036036,    0.037037,    0.038038,    0.039039,     0.04004,    0.041041,    0.042042,    0.043043,    0.044044,    0.045045,    0.046046,    0.047047,\n",
              "          0.048048,    0.049049,     0.05005,    0.051051,    0.052052,    0.053053,    0.054054,    0.055055,    0.056056,    0.057057,    0.058058,    0.059059,     0.06006,    0.061061,    0.062062,    0.063063,    0.064064,    0.065065,    0.066066,    0.067067,    0.068068,    0.069069,     0.07007,    0.071071,\n",
              "          0.072072,    0.073073,    0.074074,    0.075075,    0.076076,    0.077077,    0.078078,    0.079079,     0.08008,    0.081081,    0.082082,    0.083083,    0.084084,    0.085085,    0.086086,    0.087087,    0.088088,    0.089089,     0.09009,    0.091091,    0.092092,    0.093093,    0.094094,    0.095095,\n",
              "          0.096096,    0.097097,    0.098098,    0.099099,      0.1001,      0.1011,      0.1021,      0.1031,      0.1041,     0.10511,     0.10611,     0.10711,     0.10811,     0.10911,     0.11011,     0.11111,     0.11211,     0.11311,     0.11411,     0.11512,     0.11612,     0.11712,     0.11812,     0.11912,\n",
              "           0.12012,     0.12112,     0.12212,     0.12312,     0.12412,     0.12513,     0.12613,     0.12713,     0.12813,     0.12913,     0.13013,     0.13113,     0.13213,     0.13313,     0.13413,     0.13514,     0.13614,     0.13714,     0.13814,     0.13914,     0.14014,     0.14114,     0.14214,     0.14314,\n",
              "           0.14414,     0.14515,     0.14615,     0.14715,     0.14815,     0.14915,     0.15015,     0.15115,     0.15215,     0.15315,     0.15415,     0.15516,     0.15616,     0.15716,     0.15816,     0.15916,     0.16016,     0.16116,     0.16216,     0.16316,     0.16416,     0.16517,     0.16617,     0.16717,\n",
              "           0.16817,     0.16917,     0.17017,     0.17117,     0.17217,     0.17317,     0.17417,     0.17518,     0.17618,     0.17718,     0.17818,     0.17918,     0.18018,     0.18118,     0.18218,     0.18318,     0.18418,     0.18519,     0.18619,     0.18719,     0.18819,     0.18919,     0.19019,     0.19119,\n",
              "           0.19219,     0.19319,     0.19419,      0.1952,      0.1962,      0.1972,      0.1982,      0.1992,      0.2002,      0.2012,      0.2022,      0.2032,      0.2042,     0.20521,     0.20621,     0.20721,     0.20821,     0.20921,     0.21021,     0.21121,     0.21221,     0.21321,     0.21421,     0.21522,\n",
              "           0.21622,     0.21722,     0.21822,     0.21922,     0.22022,     0.22122,     0.22222,     0.22322,     0.22422,     0.22523,     0.22623,     0.22723,     0.22823,     0.22923,     0.23023,     0.23123,     0.23223,     0.23323,     0.23423,     0.23524,     0.23624,     0.23724,     0.23824,     0.23924,\n",
              "           0.24024,     0.24124,     0.24224,     0.24324,     0.24424,     0.24525,     0.24625,     0.24725,     0.24825,     0.24925,     0.25025,     0.25125,     0.25225,     0.25325,     0.25425,     0.25526,     0.25626,     0.25726,     0.25826,     0.25926,     0.26026,     0.26126,     0.26226,     0.26326,\n",
              "           0.26426,     0.26527,     0.26627,     0.26727,     0.26827,     0.26927,     0.27027,     0.27127,     0.27227,     0.27327,     0.27427,     0.27528,     0.27628,     0.27728,     0.27828,     0.27928,     0.28028,     0.28128,     0.28228,     0.28328,     0.28428,     0.28529,     0.28629,     0.28729,\n",
              "           0.28829,     0.28929,     0.29029,     0.29129,     0.29229,     0.29329,     0.29429,      0.2953,      0.2963,      0.2973,      0.2983,      0.2993,      0.3003,      0.3013,      0.3023,      0.3033,      0.3043,     0.30531,     0.30631,     0.30731,     0.30831,     0.30931,     0.31031,     0.31131,\n",
              "           0.31231,     0.31331,     0.31431,     0.31532,     0.31632,     0.31732,     0.31832,     0.31932,     0.32032,     0.32132,     0.32232,     0.32332,     0.32432,     0.32533,     0.32633,     0.32733,     0.32833,     0.32933,     0.33033,     0.33133,     0.33233,     0.33333,     0.33433,     0.33534,\n",
              "           0.33634,     0.33734,     0.33834,     0.33934,     0.34034,     0.34134,     0.34234,     0.34334,     0.34434,     0.34535,     0.34635,     0.34735,     0.34835,     0.34935,     0.35035,     0.35135,     0.35235,     0.35335,     0.35435,     0.35536,     0.35636,     0.35736,     0.35836,     0.35936,\n",
              "           0.36036,     0.36136,     0.36236,     0.36336,     0.36436,     0.36537,     0.36637,     0.36737,     0.36837,     0.36937,     0.37037,     0.37137,     0.37237,     0.37337,     0.37437,     0.37538,     0.37638,     0.37738,     0.37838,     0.37938,     0.38038,     0.38138,     0.38238,     0.38338,\n",
              "           0.38438,     0.38539,     0.38639,     0.38739,     0.38839,     0.38939,     0.39039,     0.39139,     0.39239,     0.39339,     0.39439,      0.3954,      0.3964,      0.3974,      0.3984,      0.3994,      0.4004,      0.4014,      0.4024,      0.4034,      0.4044,     0.40541,     0.40641,     0.40741,\n",
              "           0.40841,     0.40941,     0.41041,     0.41141,     0.41241,     0.41341,     0.41441,     0.41542,     0.41642,     0.41742,     0.41842,     0.41942,     0.42042,     0.42142,     0.42242,     0.42342,     0.42442,     0.42543,     0.42643,     0.42743,     0.42843,     0.42943,     0.43043,     0.43143,\n",
              "           0.43243,     0.43343,     0.43443,     0.43544,     0.43644,     0.43744,     0.43844,     0.43944,     0.44044,     0.44144,     0.44244,     0.44344,     0.44444,     0.44545,     0.44645,     0.44745,     0.44845,     0.44945,     0.45045,     0.45145,     0.45245,     0.45345,     0.45445,     0.45546,\n",
              "           0.45646,     0.45746,     0.45846,     0.45946,     0.46046,     0.46146,     0.46246,     0.46346,     0.46446,     0.46547,     0.46647,     0.46747,     0.46847,     0.46947,     0.47047,     0.47147,     0.47247,     0.47347,     0.47447,     0.47548,     0.47648,     0.47748,     0.47848,     0.47948,\n",
              "           0.48048,     0.48148,     0.48248,     0.48348,     0.48448,     0.48549,     0.48649,     0.48749,     0.48849,     0.48949,     0.49049,     0.49149,     0.49249,     0.49349,     0.49449,      0.4955,      0.4965,      0.4975,      0.4985,      0.4995,      0.5005,      0.5015,      0.5025,      0.5035,\n",
              "            0.5045,     0.50551,     0.50651,     0.50751,     0.50851,     0.50951,     0.51051,     0.51151,     0.51251,     0.51351,     0.51451,     0.51552,     0.51652,     0.51752,     0.51852,     0.51952,     0.52052,     0.52152,     0.52252,     0.52352,     0.52452,     0.52553,     0.52653,     0.52753,\n",
              "           0.52853,     0.52953,     0.53053,     0.53153,     0.53253,     0.53353,     0.53453,     0.53554,     0.53654,     0.53754,     0.53854,     0.53954,     0.54054,     0.54154,     0.54254,     0.54354,     0.54454,     0.54555,     0.54655,     0.54755,     0.54855,     0.54955,     0.55055,     0.55155,\n",
              "           0.55255,     0.55355,     0.55455,     0.55556,     0.55656,     0.55756,     0.55856,     0.55956,     0.56056,     0.56156,     0.56256,     0.56356,     0.56456,     0.56557,     0.56657,     0.56757,     0.56857,     0.56957,     0.57057,     0.57157,     0.57257,     0.57357,     0.57457,     0.57558,\n",
              "           0.57658,     0.57758,     0.57858,     0.57958,     0.58058,     0.58158,     0.58258,     0.58358,     0.58458,     0.58559,     0.58659,     0.58759,     0.58859,     0.58959,     0.59059,     0.59159,     0.59259,     0.59359,     0.59459,      0.5956,      0.5966,      0.5976,      0.5986,      0.5996,\n",
              "            0.6006,      0.6016,      0.6026,      0.6036,      0.6046,     0.60561,     0.60661,     0.60761,     0.60861,     0.60961,     0.61061,     0.61161,     0.61261,     0.61361,     0.61461,     0.61562,     0.61662,     0.61762,     0.61862,     0.61962,     0.62062,     0.62162,     0.62262,     0.62362,\n",
              "           0.62462,     0.62563,     0.62663,     0.62763,     0.62863,     0.62963,     0.63063,     0.63163,     0.63263,     0.63363,     0.63463,     0.63564,     0.63664,     0.63764,     0.63864,     0.63964,     0.64064,     0.64164,     0.64264,     0.64364,     0.64464,     0.64565,     0.64665,     0.64765,\n",
              "           0.64865,     0.64965,     0.65065,     0.65165,     0.65265,     0.65365,     0.65465,     0.65566,     0.65666,     0.65766,     0.65866,     0.65966,     0.66066,     0.66166,     0.66266,     0.66366,     0.66466,     0.66567,     0.66667,     0.66767,     0.66867,     0.66967,     0.67067,     0.67167,\n",
              "           0.67267,     0.67367,     0.67467,     0.67568,     0.67668,     0.67768,     0.67868,     0.67968,     0.68068,     0.68168,     0.68268,     0.68368,     0.68468,     0.68569,     0.68669,     0.68769,     0.68869,     0.68969,     0.69069,     0.69169,     0.69269,     0.69369,     0.69469,      0.6957,\n",
              "            0.6967,      0.6977,      0.6987,      0.6997,      0.7007,      0.7017,      0.7027,      0.7037,      0.7047,     0.70571,     0.70671,     0.70771,     0.70871,     0.70971,     0.71071,     0.71171,     0.71271,     0.71371,     0.71471,     0.71572,     0.71672,     0.71772,     0.71872,     0.71972,\n",
              "           0.72072,     0.72172,     0.72272,     0.72372,     0.72472,     0.72573,     0.72673,     0.72773,     0.72873,     0.72973,     0.73073,     0.73173,     0.73273,     0.73373,     0.73473,     0.73574,     0.73674,     0.73774,     0.73874,     0.73974,     0.74074,     0.74174,     0.74274,     0.74374,\n",
              "           0.74474,     0.74575,     0.74675,     0.74775,     0.74875,     0.74975,     0.75075,     0.75175,     0.75275,     0.75375,     0.75475,     0.75576,     0.75676,     0.75776,     0.75876,     0.75976,     0.76076,     0.76176,     0.76276,     0.76376,     0.76476,     0.76577,     0.76677,     0.76777,\n",
              "           0.76877,     0.76977,     0.77077,     0.77177,     0.77277,     0.77377,     0.77477,     0.77578,     0.77678,     0.77778,     0.77878,     0.77978,     0.78078,     0.78178,     0.78278,     0.78378,     0.78478,     0.78579,     0.78679,     0.78779,     0.78879,     0.78979,     0.79079,     0.79179,\n",
              "           0.79279,     0.79379,     0.79479,      0.7958,      0.7968,      0.7978,      0.7988,      0.7998,      0.8008,      0.8018,      0.8028,      0.8038,      0.8048,     0.80581,     0.80681,     0.80781,     0.80881,     0.80981,     0.81081,     0.81181,     0.81281,     0.81381,     0.81481,     0.81582,\n",
              "           0.81682,     0.81782,     0.81882,     0.81982,     0.82082,     0.82182,     0.82282,     0.82382,     0.82482,     0.82583,     0.82683,     0.82783,     0.82883,     0.82983,     0.83083,     0.83183,     0.83283,     0.83383,     0.83483,     0.83584,     0.83684,     0.83784,     0.83884,     0.83984,\n",
              "           0.84084,     0.84184,     0.84284,     0.84384,     0.84484,     0.84585,     0.84685,     0.84785,     0.84885,     0.84985,     0.85085,     0.85185,     0.85285,     0.85385,     0.85485,     0.85586,     0.85686,     0.85786,     0.85886,     0.85986,     0.86086,     0.86186,     0.86286,     0.86386,\n",
              "           0.86486,     0.86587,     0.86687,     0.86787,     0.86887,     0.86987,     0.87087,     0.87187,     0.87287,     0.87387,     0.87487,     0.87588,     0.87688,     0.87788,     0.87888,     0.87988,     0.88088,     0.88188,     0.88288,     0.88388,     0.88488,     0.88589,     0.88689,     0.88789,\n",
              "           0.88889,     0.88989,     0.89089,     0.89189,     0.89289,     0.89389,     0.89489,      0.8959,      0.8969,      0.8979,      0.8989,      0.8999,      0.9009,      0.9019,      0.9029,      0.9039,      0.9049,     0.90591,     0.90691,     0.90791,     0.90891,     0.90991,     0.91091,     0.91191,\n",
              "           0.91291,     0.91391,     0.91491,     0.91592,     0.91692,     0.91792,     0.91892,     0.91992,     0.92092,     0.92192,     0.92292,     0.92392,     0.92492,     0.92593,     0.92693,     0.92793,     0.92893,     0.92993,     0.93093,     0.93193,     0.93293,     0.93393,     0.93493,     0.93594,\n",
              "           0.93694,     0.93794,     0.93894,     0.93994,     0.94094,     0.94194,     0.94294,     0.94394,     0.94494,     0.94595,     0.94695,     0.94795,     0.94895,     0.94995,     0.95095,     0.95195,     0.95295,     0.95395,     0.95495,     0.95596,     0.95696,     0.95796,     0.95896,     0.95996,\n",
              "           0.96096,     0.96196,     0.96296,     0.96396,     0.96496,     0.96597,     0.96697,     0.96797,     0.96897,     0.96997,     0.97097,     0.97197,     0.97297,     0.97397,     0.97497,     0.97598,     0.97698,     0.97798,     0.97898,     0.97998,     0.98098,     0.98198,     0.98298,     0.98398,\n",
              "           0.98498,     0.98599,     0.98699,     0.98799,     0.98899,     0.98999,     0.99099,     0.99199,     0.99299,     0.99399,     0.99499,       0.996,       0.997,       0.998,       0.999,           1]), array([[    0.17041,     0.17041,     0.23699,     0.28156,     0.31371,     0.33962,     0.36097,     0.37802,     0.39379,     0.40543,     0.42274,     0.43916,     0.45139,     0.46609,     0.48182,     0.49658,     0.50292,     0.50727,     0.51439,     0.51996,     0.52615,      0.5331,     0.53629,\n",
              "            0.53998,      0.5449,     0.54775,     0.55498,     0.56346,     0.56642,     0.56895,     0.57118,     0.57686,     0.58043,     0.58706,     0.59002,     0.59088,     0.59134,     0.59232,     0.59299,     0.59747,     0.59716,     0.60089,     0.60237,     0.60342,     0.60423,     0.61121,\n",
              "             0.6131,     0.61459,     0.61596,     0.61404,     0.61849,     0.62088,     0.62203,     0.62336,     0.62595,     0.62486,     0.62651,     0.62859,     0.62935,     0.63052,     0.63371,     0.63637,     0.63801,     0.64681,     0.64853,     0.64921,     0.64452,     0.64575,     0.64906,\n",
              "             0.6522,     0.65281,     0.65343,     0.65458,     0.65813,     0.66059,     0.66413,     0.66518,     0.66565,     0.66613,      0.6666,     0.66876,     0.66947,     0.67159,     0.67604,     0.67363,     0.67677,     0.67898,     0.68317,      0.6846,     0.68616,     0.68786,     0.68899,\n",
              "             0.6926,      0.6944,     0.69575,     0.69747,     0.69925,     0.70173,     0.70211,     0.70248,     0.70286,     0.70324,     0.70478,      0.7109,      0.7112,      0.7115,      0.7118,      0.7121,      0.7124,      0.7127,     0.71545,     0.71643,      0.7169,     0.71728,     0.71766,\n",
              "            0.71804,     0.71842,     0.72027,     0.72191,     0.72412,     0.72172,     0.72128,     0.72186,     0.72244,     0.72314,     0.72403,     0.72491,     0.72569,     0.72646,     0.72746,     0.72863,     0.73002,     0.72811,     0.72693,     0.72633,     0.72573,     0.72513,     0.72453,\n",
              "            0.72393,     0.72419,      0.7248,     0.72541,     0.72605,     0.72674,     0.72743,     0.72807,     0.72866,     0.72926,     0.72982,     0.72997,     0.73012,     0.73028,     0.73043,     0.73058,     0.73074,     0.73089,     0.73104,      0.7312,     0.73135,      0.7315,     0.73166,\n",
              "            0.73181,     0.73286,     0.73599,     0.73617,     0.73635,     0.73653,     0.73672,      0.7369,     0.73708,     0.73726,     0.73744,     0.73762,      0.7378,     0.73798,     0.73893,      0.7399,     0.73703,     0.73794,     0.73875,     0.73928,      0.7398,     0.74032,     0.74097,\n",
              "            0.74213,     0.74571,     0.74745,     0.74863,     0.75168,      0.7522,     0.75273,     0.75325,     0.75337,     0.75252,     0.75167,     0.75083,      0.7501,     0.75233,     0.75268,     0.75303,     0.75337,     0.75372,     0.75407,     0.75446,     0.75537,     0.75627,     0.75703,\n",
              "            0.75771,     0.75838,     0.75866,     0.75819,     0.75772,     0.75725,     0.75679,     0.75632,     0.75585,     0.75538,     0.75483,     0.75421,      0.7536,     0.75298,     0.75236,     0.75175,     0.75321,     0.75461,      0.7557,      0.7562,     0.75654,     0.75687,      0.7572,\n",
              "            0.75753,     0.75786,     0.75819,      0.7607,      0.7618,      0.7628,     0.76313,     0.76346,     0.76378,     0.76411,     0.76443,     0.76475,     0.76523,      0.7684,     0.76668,     0.76552,       0.765,     0.76449,     0.76397,     0.76346,     0.76295,     0.76243,     0.76263,\n",
              "            0.76343,     0.76422,      0.7672,     0.76774,     0.76828,     0.76882,     0.76996,     0.77173,     0.77199,     0.77225,     0.77251,     0.77277,     0.77302,     0.77328,     0.77354,     0.77379,     0.77665,     0.77775,     0.77883,     0.77936,     0.77988,     0.78041,     0.78093,\n",
              "            0.78382,     0.78414,     0.78446,     0.78477,     0.78509,      0.7854,     0.78572,     0.78604,     0.78598,     0.78566,     0.78535,     0.78504,     0.78472,     0.78441,      0.7841,     0.78378,     0.78347,     0.78315,     0.78284,     0.78252,     0.78259,     0.78322,     0.78386,\n",
              "            0.78449,     0.78527,      0.7862,     0.78713,     0.78987,     0.79061,     0.79135,     0.79209,     0.79128,     0.78969,     0.78853,     0.78884,     0.78914,     0.78945,     0.78976,     0.79006,     0.79037,     0.79067,     0.79098,      0.7917,     0.79244,     0.79319,     0.79329,\n",
              "            0.79279,     0.79229,     0.79179,     0.79129,     0.79079,     0.79029,     0.78979,     0.79215,      0.7937,     0.79367,     0.79117,     0.79223,      0.7933,     0.79722,     0.79856,     0.79939,     0.80016,     0.80094,     0.80142,     0.80161,      0.8018,     0.80198,     0.80217,\n",
              "            0.80236,     0.80255,     0.80274,     0.80293,     0.80311,      0.8033,     0.80349,     0.80368,     0.80386,     0.80424,     0.80498,     0.80571,     0.80644,     0.80674,     0.80685,     0.80695,     0.80706,     0.80717,     0.80727,     0.80738,     0.80749,     0.80759,      0.8077,\n",
              "            0.80781,     0.80791,     0.80802,     0.80813,     0.80823,     0.80834,     0.80844,     0.80855,     0.80866,     0.80876,     0.80887,     0.80898,     0.80908,     0.80919,     0.80929,     0.80949,     0.80986,     0.81023,      0.8106,     0.81097,     0.81134,     0.81171,     0.81211,\n",
              "             0.8148,     0.81445,     0.81409,     0.81373,     0.81338,     0.81302,     0.81266,     0.81231,     0.81195,     0.81159,     0.81123,     0.81088,     0.81311,     0.81009,     0.81004,     0.81064,     0.81123,     0.81183,     0.81235,     0.81265,     0.81294,     0.81323,     0.81353,\n",
              "            0.81382,     0.81411,      0.8144,     0.81469,     0.81499,     0.81479,      0.8144,     0.81402,     0.81363,     0.81324,     0.81285,     0.81246,     0.81207,     0.81169,      0.8113,     0.81347,     0.81207,     0.81067,     0.80926,     0.80785,     0.80644,     0.80543,      0.8051,\n",
              "            0.80476,     0.80443,     0.80409,     0.80376,     0.80342,     0.80309,     0.80276,     0.80242,     0.80209,     0.80175,     0.80141,     0.80039,     0.79932,     0.79824,     0.79725,     0.79869,     0.80245,     0.79855,     0.79821,     0.79787,     0.79752,     0.79718,     0.79684,\n",
              "             0.7965,     0.79615,     0.79581,     0.79547,     0.79513,     0.79478,     0.79444,     0.79627,     0.79672,     0.79609,     0.79546,     0.79483,      0.7942,     0.79357,     0.79294,     0.79328,     0.79377,     0.79425,     0.79474,     0.79522,     0.79567,     0.79346,     0.79132,\n",
              "            0.79058,     0.78983,     0.78909,     0.78834,      0.7876,     0.78704,     0.78723,     0.78741,     0.78759,     0.78777,     0.78796,     0.78814,     0.78832,     0.78851,     0.78869,     0.78887,     0.78905,     0.78924,     0.78942,      0.7896,     0.78978,     0.78932,     0.78842,\n",
              "            0.78752,     0.78661,     0.78571,     0.77773,      0.7757,     0.77455,      0.7734,     0.77224,     0.76815,     0.76685,     0.76608,      0.7653,     0.76452,     0.76373,     0.76296,     0.76249,     0.76202,     0.76155,     0.76107,      0.7606,     0.76013,     0.75966,     0.75919,\n",
              "            0.75872,     0.75861,     0.75958,     0.76055,     0.75963,     0.75637,     0.75584,      0.7553,     0.75477,     0.75424,     0.75371,     0.75317,     0.75264,     0.75211,     0.75355,     0.74855,     0.74611,     0.74499,      0.7446,     0.74421,     0.74382,     0.74343,     0.74303,\n",
              "            0.74264,     0.74225,     0.74185,     0.74146,     0.74107,     0.74067,      0.7399,     0.73867,     0.73743,     0.73619,     0.73617,     0.73713,      0.7381,     0.73938,     0.74084,     0.73559,     0.73433,     0.73307,     0.73181,     0.73087,     0.73002,     0.72918,     0.72833,\n",
              "            0.72748,     0.72663,     0.72187,     0.71915,     0.71656,     0.71593,     0.71532,     0.71471,      0.7141,     0.71349,     0.71287,     0.71226,     0.71165,     0.71172,     0.71208,     0.71244,      0.7128,     0.71317,     0.71353,     0.71389,     0.71425,      0.7081,     0.70545,\n",
              "            0.70158,     0.69623,     0.69428,     0.69571,     0.69086,     0.69049,     0.69013,     0.68976,      0.6894,     0.68903,     0.68867,     0.68831,     0.68794,     0.68757,     0.68721,     0.68684,     0.68648,     0.68611,     0.68574,     0.68445,     0.68307,     0.68169,      0.6803,\n",
              "            0.67845,     0.67659,      0.6747,     0.67246,     0.67021,     0.66759,     0.66476,     0.66365,      0.6633,     0.66294,     0.66259,     0.66223,     0.66187,     0.66152,     0.66116,      0.6608,     0.66045,     0.66009,     0.65973,     0.65937,     0.65902,     0.65866,     0.65819,\n",
              "            0.65655,      0.6549,     0.65326,     0.65223,     0.65151,     0.65078,     0.65006,     0.64933,     0.64861,     0.64788,     0.64715,     0.64642,      0.6457,     0.64496,     0.64423,      0.6435,     0.64277,     0.64204,     0.64127,     0.63996,     0.63865,     0.63734,     0.63602,\n",
              "            0.63445,     0.63275,     0.63105,     0.62934,     0.62763,     0.62592,      0.6242,     0.62247,     0.62074,     0.61901,     0.61715,     0.61512,     0.61308,     0.61083,     0.60837,     0.60566,     0.59888,     0.59009,     0.58613,     0.58358,       0.575,     0.57382,     0.57265,\n",
              "            0.57147,     0.57028,      0.5691,     0.56531,     0.56156,     0.55892,     0.55627,     0.54993,       0.542,     0.54096,     0.53992,     0.53887,     0.53783,     0.53678,     0.53573,     0.53468,     0.53363,     0.53257,     0.53152,     0.53046,     0.52878,     0.52533,      0.5094,\n",
              "            0.50984,     0.51029,     0.51073,     0.51117,      0.5116,     0.50015,     0.49626,     0.49336,     0.49061,     0.49157,     0.49252,     0.49112,     0.48818,     0.48557,      0.4847,     0.48383,     0.48296,     0.48208,     0.48121,     0.48033,     0.47946,     0.47858,     0.47412,\n",
              "            0.47154,     0.47248,      0.4734,     0.46853,     0.45096,     0.45005,     0.44913,     0.44821,     0.44729,     0.44637,     0.44545,     0.44453,      0.4436,     0.43763,     0.43266,     0.42867,     0.42644,     0.42465,     0.42286,     0.42106,     0.41834,     0.41428,     0.41112,\n",
              "            0.40907,     0.40702,     0.40496,      0.4022,     0.39888,     0.39529,      0.3897,     0.38665,     0.38496,     0.38327,     0.38157,     0.37987,     0.37684,     0.37342,     0.35977,     0.35371,     0.35246,      0.3512,     0.34994,     0.34867,     0.34741,     0.34614,     0.34496,\n",
              "            0.34385,     0.34273,     0.34162,      0.3405,     0.33939,     0.33827,     0.33715,     0.33597,     0.33477,     0.33357,     0.33237,     0.33117,     0.32996,     0.32876,     0.32755,     0.32634,     0.32512,     0.32391,     0.32269,     0.32148,     0.32026,     0.31872,     0.31413,\n",
              "            0.30987,     0.30781,     0.30574,     0.30367,     0.30159,     0.29089,     0.28709,     0.28328,     0.26668,     0.26096,     0.25769,      0.2544,     0.25372,     0.25173,     0.24973,     0.24773,     0.24492,     0.22457,      0.2047,     0.20294,     0.20118,     0.19942,     0.19765,\n",
              "            0.19588,     0.18763,     0.18266,     0.17957,     0.17648,     0.17411,      0.1732,      0.1723,     0.17139,     0.17048,     0.16957,     0.16865,     0.16774,     0.16683,     0.16591,       0.165,     0.16408,      0.1622,     0.15974,     0.15729,     0.15482,     0.15227,     0.14948,\n",
              "            0.14668,     0.14387,     0.14171,      0.1408,      0.1399,       0.139,     0.13809,     0.13719,     0.13628,     0.13537,     0.13446,     0.13355,     0.13264,     0.13173,      0.1307,     0.12894,     0.12718,     0.12542,     0.12365,     0.12188,     0.12011,     0.10721,      0.1033,\n",
              "            0.09938,    0.097139,    0.097533,     0.09599,    0.094287,    0.092581,    0.090872,     0.08916,    0.087445,    0.085747,    0.084241,    0.082733,    0.081222,    0.079709,    0.078193,    0.076675,    0.075155,    0.072305,    0.066182,     0.06179,     0.06084,     0.05989,    0.058938,\n",
              "           0.057985,    0.057032,    0.056077,    0.055122,    0.054165,    0.053208,     0.05225,     0.05129,     0.05033,    0.049712,    0.049274,    0.048835,    0.048396,    0.047957,    0.047518,    0.047078,    0.046638,    0.046198,    0.045758,    0.045318,    0.044877,    0.044437,    0.043996,\n",
              "           0.043554,    0.043113,    0.042672,     0.04223,    0.041788,    0.041346,    0.040903,    0.040461,    0.040018,    0.039575,    0.039132,    0.038689,    0.038245,    0.037802,    0.036601,    0.035267,    0.033931,    0.032593,    0.031254,    0.029912,    0.028569,    0.027224,    0.025877,\n",
              "           0.024529,    0.023178,    0.021826,    0.020472,    0.019116,    0.017758,    0.016398,    0.015036,    0.013673,           0,           0,           0,           0,           0,           0,           0,           0,           0,           0,           0,           0,           0,           0,\n",
              "                  0,           0,           0,           0,           0,           0,           0,           0,           0,           0,           0,           0,           0,           0,           0,           0,           0,           0,           0,           0,           0,           0,           0,\n",
              "                  0,           0,           0,           0,           0,           0,           0,           0,           0,           0,           0]]), 'Confidence', 'F1'], [array([          0,    0.001001,    0.002002,    0.003003,    0.004004,    0.005005,    0.006006,    0.007007,    0.008008,    0.009009,     0.01001,    0.011011,    0.012012,    0.013013,    0.014014,    0.015015,    0.016016,    0.017017,    0.018018,    0.019019,     0.02002,    0.021021,    0.022022,    0.023023,\n",
              "          0.024024,    0.025025,    0.026026,    0.027027,    0.028028,    0.029029,     0.03003,    0.031031,    0.032032,    0.033033,    0.034034,    0.035035,    0.036036,    0.037037,    0.038038,    0.039039,     0.04004,    0.041041,    0.042042,    0.043043,    0.044044,    0.045045,    0.046046,    0.047047,\n",
              "          0.048048,    0.049049,     0.05005,    0.051051,    0.052052,    0.053053,    0.054054,    0.055055,    0.056056,    0.057057,    0.058058,    0.059059,     0.06006,    0.061061,    0.062062,    0.063063,    0.064064,    0.065065,    0.066066,    0.067067,    0.068068,    0.069069,     0.07007,    0.071071,\n",
              "          0.072072,    0.073073,    0.074074,    0.075075,    0.076076,    0.077077,    0.078078,    0.079079,     0.08008,    0.081081,    0.082082,    0.083083,    0.084084,    0.085085,    0.086086,    0.087087,    0.088088,    0.089089,     0.09009,    0.091091,    0.092092,    0.093093,    0.094094,    0.095095,\n",
              "          0.096096,    0.097097,    0.098098,    0.099099,      0.1001,      0.1011,      0.1021,      0.1031,      0.1041,     0.10511,     0.10611,     0.10711,     0.10811,     0.10911,     0.11011,     0.11111,     0.11211,     0.11311,     0.11411,     0.11512,     0.11612,     0.11712,     0.11812,     0.11912,\n",
              "           0.12012,     0.12112,     0.12212,     0.12312,     0.12412,     0.12513,     0.12613,     0.12713,     0.12813,     0.12913,     0.13013,     0.13113,     0.13213,     0.13313,     0.13413,     0.13514,     0.13614,     0.13714,     0.13814,     0.13914,     0.14014,     0.14114,     0.14214,     0.14314,\n",
              "           0.14414,     0.14515,     0.14615,     0.14715,     0.14815,     0.14915,     0.15015,     0.15115,     0.15215,     0.15315,     0.15415,     0.15516,     0.15616,     0.15716,     0.15816,     0.15916,     0.16016,     0.16116,     0.16216,     0.16316,     0.16416,     0.16517,     0.16617,     0.16717,\n",
              "           0.16817,     0.16917,     0.17017,     0.17117,     0.17217,     0.17317,     0.17417,     0.17518,     0.17618,     0.17718,     0.17818,     0.17918,     0.18018,     0.18118,     0.18218,     0.18318,     0.18418,     0.18519,     0.18619,     0.18719,     0.18819,     0.18919,     0.19019,     0.19119,\n",
              "           0.19219,     0.19319,     0.19419,      0.1952,      0.1962,      0.1972,      0.1982,      0.1992,      0.2002,      0.2012,      0.2022,      0.2032,      0.2042,     0.20521,     0.20621,     0.20721,     0.20821,     0.20921,     0.21021,     0.21121,     0.21221,     0.21321,     0.21421,     0.21522,\n",
              "           0.21622,     0.21722,     0.21822,     0.21922,     0.22022,     0.22122,     0.22222,     0.22322,     0.22422,     0.22523,     0.22623,     0.22723,     0.22823,     0.22923,     0.23023,     0.23123,     0.23223,     0.23323,     0.23423,     0.23524,     0.23624,     0.23724,     0.23824,     0.23924,\n",
              "           0.24024,     0.24124,     0.24224,     0.24324,     0.24424,     0.24525,     0.24625,     0.24725,     0.24825,     0.24925,     0.25025,     0.25125,     0.25225,     0.25325,     0.25425,     0.25526,     0.25626,     0.25726,     0.25826,     0.25926,     0.26026,     0.26126,     0.26226,     0.26326,\n",
              "           0.26426,     0.26527,     0.26627,     0.26727,     0.26827,     0.26927,     0.27027,     0.27127,     0.27227,     0.27327,     0.27427,     0.27528,     0.27628,     0.27728,     0.27828,     0.27928,     0.28028,     0.28128,     0.28228,     0.28328,     0.28428,     0.28529,     0.28629,     0.28729,\n",
              "           0.28829,     0.28929,     0.29029,     0.29129,     0.29229,     0.29329,     0.29429,      0.2953,      0.2963,      0.2973,      0.2983,      0.2993,      0.3003,      0.3013,      0.3023,      0.3033,      0.3043,     0.30531,     0.30631,     0.30731,     0.30831,     0.30931,     0.31031,     0.31131,\n",
              "           0.31231,     0.31331,     0.31431,     0.31532,     0.31632,     0.31732,     0.31832,     0.31932,     0.32032,     0.32132,     0.32232,     0.32332,     0.32432,     0.32533,     0.32633,     0.32733,     0.32833,     0.32933,     0.33033,     0.33133,     0.33233,     0.33333,     0.33433,     0.33534,\n",
              "           0.33634,     0.33734,     0.33834,     0.33934,     0.34034,     0.34134,     0.34234,     0.34334,     0.34434,     0.34535,     0.34635,     0.34735,     0.34835,     0.34935,     0.35035,     0.35135,     0.35235,     0.35335,     0.35435,     0.35536,     0.35636,     0.35736,     0.35836,     0.35936,\n",
              "           0.36036,     0.36136,     0.36236,     0.36336,     0.36436,     0.36537,     0.36637,     0.36737,     0.36837,     0.36937,     0.37037,     0.37137,     0.37237,     0.37337,     0.37437,     0.37538,     0.37638,     0.37738,     0.37838,     0.37938,     0.38038,     0.38138,     0.38238,     0.38338,\n",
              "           0.38438,     0.38539,     0.38639,     0.38739,     0.38839,     0.38939,     0.39039,     0.39139,     0.39239,     0.39339,     0.39439,      0.3954,      0.3964,      0.3974,      0.3984,      0.3994,      0.4004,      0.4014,      0.4024,      0.4034,      0.4044,     0.40541,     0.40641,     0.40741,\n",
              "           0.40841,     0.40941,     0.41041,     0.41141,     0.41241,     0.41341,     0.41441,     0.41542,     0.41642,     0.41742,     0.41842,     0.41942,     0.42042,     0.42142,     0.42242,     0.42342,     0.42442,     0.42543,     0.42643,     0.42743,     0.42843,     0.42943,     0.43043,     0.43143,\n",
              "           0.43243,     0.43343,     0.43443,     0.43544,     0.43644,     0.43744,     0.43844,     0.43944,     0.44044,     0.44144,     0.44244,     0.44344,     0.44444,     0.44545,     0.44645,     0.44745,     0.44845,     0.44945,     0.45045,     0.45145,     0.45245,     0.45345,     0.45445,     0.45546,\n",
              "           0.45646,     0.45746,     0.45846,     0.45946,     0.46046,     0.46146,     0.46246,     0.46346,     0.46446,     0.46547,     0.46647,     0.46747,     0.46847,     0.46947,     0.47047,     0.47147,     0.47247,     0.47347,     0.47447,     0.47548,     0.47648,     0.47748,     0.47848,     0.47948,\n",
              "           0.48048,     0.48148,     0.48248,     0.48348,     0.48448,     0.48549,     0.48649,     0.48749,     0.48849,     0.48949,     0.49049,     0.49149,     0.49249,     0.49349,     0.49449,      0.4955,      0.4965,      0.4975,      0.4985,      0.4995,      0.5005,      0.5015,      0.5025,      0.5035,\n",
              "            0.5045,     0.50551,     0.50651,     0.50751,     0.50851,     0.50951,     0.51051,     0.51151,     0.51251,     0.51351,     0.51451,     0.51552,     0.51652,     0.51752,     0.51852,     0.51952,     0.52052,     0.52152,     0.52252,     0.52352,     0.52452,     0.52553,     0.52653,     0.52753,\n",
              "           0.52853,     0.52953,     0.53053,     0.53153,     0.53253,     0.53353,     0.53453,     0.53554,     0.53654,     0.53754,     0.53854,     0.53954,     0.54054,     0.54154,     0.54254,     0.54354,     0.54454,     0.54555,     0.54655,     0.54755,     0.54855,     0.54955,     0.55055,     0.55155,\n",
              "           0.55255,     0.55355,     0.55455,     0.55556,     0.55656,     0.55756,     0.55856,     0.55956,     0.56056,     0.56156,     0.56256,     0.56356,     0.56456,     0.56557,     0.56657,     0.56757,     0.56857,     0.56957,     0.57057,     0.57157,     0.57257,     0.57357,     0.57457,     0.57558,\n",
              "           0.57658,     0.57758,     0.57858,     0.57958,     0.58058,     0.58158,     0.58258,     0.58358,     0.58458,     0.58559,     0.58659,     0.58759,     0.58859,     0.58959,     0.59059,     0.59159,     0.59259,     0.59359,     0.59459,      0.5956,      0.5966,      0.5976,      0.5986,      0.5996,\n",
              "            0.6006,      0.6016,      0.6026,      0.6036,      0.6046,     0.60561,     0.60661,     0.60761,     0.60861,     0.60961,     0.61061,     0.61161,     0.61261,     0.61361,     0.61461,     0.61562,     0.61662,     0.61762,     0.61862,     0.61962,     0.62062,     0.62162,     0.62262,     0.62362,\n",
              "           0.62462,     0.62563,     0.62663,     0.62763,     0.62863,     0.62963,     0.63063,     0.63163,     0.63263,     0.63363,     0.63463,     0.63564,     0.63664,     0.63764,     0.63864,     0.63964,     0.64064,     0.64164,     0.64264,     0.64364,     0.64464,     0.64565,     0.64665,     0.64765,\n",
              "           0.64865,     0.64965,     0.65065,     0.65165,     0.65265,     0.65365,     0.65465,     0.65566,     0.65666,     0.65766,     0.65866,     0.65966,     0.66066,     0.66166,     0.66266,     0.66366,     0.66466,     0.66567,     0.66667,     0.66767,     0.66867,     0.66967,     0.67067,     0.67167,\n",
              "           0.67267,     0.67367,     0.67467,     0.67568,     0.67668,     0.67768,     0.67868,     0.67968,     0.68068,     0.68168,     0.68268,     0.68368,     0.68468,     0.68569,     0.68669,     0.68769,     0.68869,     0.68969,     0.69069,     0.69169,     0.69269,     0.69369,     0.69469,      0.6957,\n",
              "            0.6967,      0.6977,      0.6987,      0.6997,      0.7007,      0.7017,      0.7027,      0.7037,      0.7047,     0.70571,     0.70671,     0.70771,     0.70871,     0.70971,     0.71071,     0.71171,     0.71271,     0.71371,     0.71471,     0.71572,     0.71672,     0.71772,     0.71872,     0.71972,\n",
              "           0.72072,     0.72172,     0.72272,     0.72372,     0.72472,     0.72573,     0.72673,     0.72773,     0.72873,     0.72973,     0.73073,     0.73173,     0.73273,     0.73373,     0.73473,     0.73574,     0.73674,     0.73774,     0.73874,     0.73974,     0.74074,     0.74174,     0.74274,     0.74374,\n",
              "           0.74474,     0.74575,     0.74675,     0.74775,     0.74875,     0.74975,     0.75075,     0.75175,     0.75275,     0.75375,     0.75475,     0.75576,     0.75676,     0.75776,     0.75876,     0.75976,     0.76076,     0.76176,     0.76276,     0.76376,     0.76476,     0.76577,     0.76677,     0.76777,\n",
              "           0.76877,     0.76977,     0.77077,     0.77177,     0.77277,     0.77377,     0.77477,     0.77578,     0.77678,     0.77778,     0.77878,     0.77978,     0.78078,     0.78178,     0.78278,     0.78378,     0.78478,     0.78579,     0.78679,     0.78779,     0.78879,     0.78979,     0.79079,     0.79179,\n",
              "           0.79279,     0.79379,     0.79479,      0.7958,      0.7968,      0.7978,      0.7988,      0.7998,      0.8008,      0.8018,      0.8028,      0.8038,      0.8048,     0.80581,     0.80681,     0.80781,     0.80881,     0.80981,     0.81081,     0.81181,     0.81281,     0.81381,     0.81481,     0.81582,\n",
              "           0.81682,     0.81782,     0.81882,     0.81982,     0.82082,     0.82182,     0.82282,     0.82382,     0.82482,     0.82583,     0.82683,     0.82783,     0.82883,     0.82983,     0.83083,     0.83183,     0.83283,     0.83383,     0.83483,     0.83584,     0.83684,     0.83784,     0.83884,     0.83984,\n",
              "           0.84084,     0.84184,     0.84284,     0.84384,     0.84484,     0.84585,     0.84685,     0.84785,     0.84885,     0.84985,     0.85085,     0.85185,     0.85285,     0.85385,     0.85485,     0.85586,     0.85686,     0.85786,     0.85886,     0.85986,     0.86086,     0.86186,     0.86286,     0.86386,\n",
              "           0.86486,     0.86587,     0.86687,     0.86787,     0.86887,     0.86987,     0.87087,     0.87187,     0.87287,     0.87387,     0.87487,     0.87588,     0.87688,     0.87788,     0.87888,     0.87988,     0.88088,     0.88188,     0.88288,     0.88388,     0.88488,     0.88589,     0.88689,     0.88789,\n",
              "           0.88889,     0.88989,     0.89089,     0.89189,     0.89289,     0.89389,     0.89489,      0.8959,      0.8969,      0.8979,      0.8989,      0.8999,      0.9009,      0.9019,      0.9029,      0.9039,      0.9049,     0.90591,     0.90691,     0.90791,     0.90891,     0.90991,     0.91091,     0.91191,\n",
              "           0.91291,     0.91391,     0.91491,     0.91592,     0.91692,     0.91792,     0.91892,     0.91992,     0.92092,     0.92192,     0.92292,     0.92392,     0.92492,     0.92593,     0.92693,     0.92793,     0.92893,     0.92993,     0.93093,     0.93193,     0.93293,     0.93393,     0.93493,     0.93594,\n",
              "           0.93694,     0.93794,     0.93894,     0.93994,     0.94094,     0.94194,     0.94294,     0.94394,     0.94494,     0.94595,     0.94695,     0.94795,     0.94895,     0.94995,     0.95095,     0.95195,     0.95295,     0.95395,     0.95495,     0.95596,     0.95696,     0.95796,     0.95896,     0.95996,\n",
              "           0.96096,     0.96196,     0.96296,     0.96396,     0.96496,     0.96597,     0.96697,     0.96797,     0.96897,     0.96997,     0.97097,     0.97197,     0.97297,     0.97397,     0.97497,     0.97598,     0.97698,     0.97798,     0.97898,     0.97998,     0.98098,     0.98198,     0.98298,     0.98398,\n",
              "           0.98498,     0.98599,     0.98699,     0.98799,     0.98899,     0.98999,     0.99099,     0.99199,     0.99299,     0.99399,     0.99499,       0.996,       0.997,       0.998,       0.999,           1]), array([[   0.093612,    0.093612,     0.13568,      0.1657,     0.18844,     0.20745,     0.22361,     0.23725,     0.24981,     0.25926,     0.27359,      0.2875,     0.29807,     0.31103,      0.3252,     0.33879,     0.34472,     0.34973,     0.35654,     0.36191,     0.36794,     0.37477,     0.37793,\n",
              "             0.3816,     0.38676,     0.39056,     0.39796,     0.40674,     0.41112,     0.41379,     0.41616,     0.42222,     0.42605,     0.43324,     0.43795,      0.4389,     0.44062,     0.44204,     0.44278,     0.44779,     0.44906,     0.45329,     0.45498,     0.45617,      0.4571,     0.46514,\n",
              "            0.46733,     0.46907,     0.47066,     0.47022,     0.47546,     0.47829,     0.47965,     0.48124,     0.48514,     0.48496,     0.48695,     0.48947,     0.49038,     0.49182,      0.4957,     0.49897,     0.50098,     0.51193,     0.51409,     0.51606,     0.51338,     0.51503,     0.51926,\n",
              "            0.52329,     0.52408,     0.52488,     0.52636,     0.53097,     0.53417,     0.53882,     0.54021,     0.54083,     0.54145,     0.54208,     0.54494,     0.54589,     0.54871,     0.55468,     0.55387,     0.55834,     0.56135,     0.56711,     0.56908,     0.57124,      0.5736,     0.57517,\n",
              "            0.58022,     0.58275,     0.58465,     0.58708,     0.58961,     0.59315,     0.59369,     0.59423,     0.59477,     0.59531,     0.59751,     0.60637,     0.60681,     0.60725,     0.60768,     0.60812,     0.60856,       0.609,     0.61302,     0.61445,     0.61515,     0.61571,     0.61627,\n",
              "            0.61683,     0.61739,     0.62013,     0.62257,     0.62587,     0.62485,     0.62503,      0.6259,     0.62678,     0.62783,     0.62918,     0.63051,     0.63168,     0.63285,     0.63438,     0.63615,     0.63905,      0.6381,     0.63751,     0.63721,     0.63691,     0.63661,     0.63631,\n",
              "            0.63601,     0.63659,     0.63753,     0.63848,     0.63947,     0.64054,     0.64161,     0.64261,     0.64354,     0.64446,     0.64534,     0.64558,     0.64582,     0.64606,      0.6463,     0.64654,     0.64678,     0.64702,     0.64726,      0.6475,     0.64774,     0.64798,     0.64822,\n",
              "            0.64846,     0.65011,     0.65506,     0.65534,     0.65563,     0.65592,     0.65621,     0.65649,     0.65678,     0.65707,     0.65735,     0.65764,     0.65793,     0.65822,     0.65972,     0.66152,     0.66068,     0.66214,     0.66345,      0.6643,     0.66514,     0.66599,     0.66704,\n",
              "            0.66892,     0.67476,     0.67761,     0.67955,      0.6846,     0.68547,     0.68634,     0.68722,     0.68772,     0.68733,     0.68694,     0.68655,     0.68635,     0.69008,     0.69067,     0.69125,     0.69184,     0.69242,     0.69301,     0.69367,     0.69521,     0.69674,     0.69803,\n",
              "            0.69918,     0.70033,     0.70101,     0.70081,      0.7006,     0.70039,     0.70018,     0.69997,     0.69976,     0.69955,      0.6993,     0.69903,     0.69875,     0.69847,      0.6982,     0.69792,     0.70079,     0.70323,     0.70511,       0.706,     0.70657,     0.70715,     0.70773,\n",
              "             0.7083,     0.70888,     0.70946,     0.71387,     0.71582,     0.71759,     0.71816,     0.71874,     0.71932,     0.71989,     0.72047,     0.72105,      0.7219,     0.72756,     0.72862,     0.72814,     0.72792,     0.72771,     0.72749,     0.72727,     0.72706,     0.72684,     0.72753,\n",
              "            0.72898,     0.73044,      0.7359,      0.7369,     0.73789,     0.73888,       0.741,     0.74429,     0.74477,     0.74525,     0.74573,     0.74621,     0.74669,     0.74717,     0.74765,     0.74813,     0.75348,     0.75556,     0.75761,      0.7586,      0.7596,      0.7606,     0.76159,\n",
              "            0.76711,     0.76772,     0.76833,     0.76893,     0.76954,     0.77014,     0.77075,     0.77136,     0.77154,     0.77142,      0.7713,     0.77119,     0.77107,     0.77095,     0.77084,     0.77072,     0.77061,     0.77049,     0.77037,     0.77026,     0.77068,     0.77191,     0.77314,\n",
              "            0.77438,      0.7759,     0.77772,     0.77953,     0.78493,     0.78639,     0.78786,     0.78932,     0.78944,     0.78889,      0.7886,     0.78921,     0.78983,     0.79044,     0.79105,     0.79167,     0.79228,     0.79289,     0.79351,     0.79496,     0.79647,     0.79798,     0.79861,\n",
              "            0.79845,     0.79828,     0.79811,     0.79794,     0.79777,      0.7976,     0.79743,     0.80251,     0.80569,     0.80758,     0.80733,     0.80955,     0.81177,     0.82002,     0.82287,     0.82463,     0.82628,     0.82794,     0.82897,     0.82937,     0.82978,     0.83018,     0.83058,\n",
              "            0.83099,     0.83139,      0.8318,      0.8322,      0.8326,     0.83301,     0.83341,     0.83382,     0.83422,     0.83504,     0.83662,     0.83821,     0.83979,     0.84044,     0.84067,      0.8409,     0.84113,     0.84136,      0.8416,     0.84183,     0.84206,     0.84229,     0.84252,\n",
              "            0.84275,     0.84299,     0.84322,     0.84345,     0.84368,     0.84391,     0.84414,     0.84438,     0.84461,     0.84484,     0.84507,      0.8453,     0.84553,     0.84577,       0.846,     0.84642,     0.84723,     0.84805,     0.84886,     0.84968,     0.85049,     0.85131,     0.85217,\n",
              "            0.85815,     0.85806,     0.85797,     0.85788,     0.85779,      0.8577,     0.85761,     0.85752,     0.85743,     0.85734,     0.85725,     0.85716,     0.86229,     0.86246,     0.86349,     0.86485,     0.86621,     0.86757,     0.86877,     0.86944,     0.87011,     0.87078,     0.87145,\n",
              "            0.87212,      0.8728,     0.87347,     0.87414,     0.87481,     0.87494,     0.87485,     0.87476,     0.87467,     0.87458,      0.8745,     0.87441,     0.87432,     0.87423,     0.87414,     0.88053,     0.88022,     0.87991,      0.8796,     0.87929,     0.87898,     0.87876,     0.87869,\n",
              "            0.87861,     0.87854,     0.87846,     0.87839,     0.87831,     0.87824,     0.87816,     0.87809,     0.87802,     0.87794,     0.87787,     0.87764,      0.8774,     0.87716,     0.87705,     0.88053,     0.89055,     0.88976,     0.88969,     0.88962,     0.88955,     0.88947,      0.8894,\n",
              "            0.88933,     0.88926,     0.88919,     0.88912,     0.88905,     0.88898,     0.88891,     0.89377,     0.89591,     0.89579,     0.89567,     0.89555,     0.89542,      0.8953,     0.89518,     0.89624,     0.89748,     0.89872,     0.89997,     0.90121,     0.90243,     0.90202,     0.90163,\n",
              "            0.90149,     0.90135,     0.90121,     0.90108,     0.90094,     0.90093,     0.90141,     0.90189,     0.90237,     0.90285,     0.90333,     0.90381,     0.90429,     0.90477,     0.90525,     0.90574,     0.90622,      0.9067,     0.90718,     0.90766,     0.90814,     0.90824,     0.90808,\n",
              "            0.90792,     0.90777,     0.90761,     0.90619,     0.90583,     0.90562,     0.90541,     0.90521,     0.90446,     0.90422,     0.90408,     0.90394,     0.90379,     0.90365,     0.90351,     0.90342,     0.90333,     0.90325,     0.90316,     0.90307,     0.90298,     0.90289,     0.90281,\n",
              "            0.90272,     0.90336,     0.90612,     0.90887,     0.91044,     0.90988,     0.90978,     0.90969,      0.9096,      0.9095,     0.90941,     0.90932,     0.90922,     0.90913,       0.914,     0.91643,     0.91603,     0.91585,     0.91578,     0.91572,     0.91565,     0.91559,     0.91552,\n",
              "            0.91546,     0.91539,     0.91533,     0.91526,      0.9152,     0.91513,       0.915,     0.91479,     0.91459,     0.91438,     0.91594,     0.91894,     0.92195,     0.92594,     0.93053,     0.93126,     0.93108,     0.93091,     0.93073,      0.9306,     0.93048,     0.93037,     0.93025,\n",
              "            0.93013,     0.93001,     0.92934,     0.92894,     0.92858,     0.92848,     0.92839,     0.92831,     0.92822,     0.92813,     0.92804,     0.92795,     0.92786,      0.9287,     0.92994,     0.93118,     0.93241,     0.93365,     0.93489,     0.93613,     0.93737,      0.9367,     0.93636,\n",
              "            0.93585,     0.93514,     0.93743,     0.94269,     0.94442,     0.94438,     0.94434,     0.94429,     0.94425,     0.94421,     0.94416,     0.94412,     0.94408,     0.94404,     0.94399,     0.94395,     0.94391,     0.94387,     0.94382,     0.94367,     0.94351,     0.94334,     0.94318,\n",
              "            0.94296,     0.94273,      0.9425,     0.94223,     0.94196,     0.94163,     0.94128,     0.94115,      0.9411,     0.94106,     0.94101,     0.94097,     0.94092,     0.94088,     0.94083,     0.94079,     0.94074,      0.9407,     0.94065,     0.94061,     0.94056,     0.94052,     0.94046,\n",
              "            0.94025,     0.94004,     0.93983,      0.9397,      0.9396,     0.93951,     0.93941,     0.93932,     0.93922,     0.93913,     0.93904,     0.93894,     0.93884,     0.93875,     0.93865,     0.93855,     0.93846,     0.93836,     0.93826,     0.93808,     0.93791,     0.93773,     0.93756,\n",
              "            0.93734,     0.93711,     0.93688,     0.93665,     0.93641,     0.93617,     0.93593,     0.93569,     0.93545,      0.9352,     0.93494,     0.93465,     0.93436,     0.93403,     0.93367,     0.93327,     0.93226,     0.93092,      0.9303,      0.9299,     0.92854,     0.92834,     0.92815,\n",
              "            0.92796,     0.92776,     0.92757,     0.92694,     0.92631,     0.92586,     0.92541,     0.92431,      0.9229,     0.92271,     0.92252,     0.92233,     0.92214,     0.92195,     0.92176,     0.92156,     0.92137,     0.92117,     0.92097,     0.92078,     0.92046,     0.91981,     0.91756,\n",
              "            0.92046,     0.92336,     0.92625,     0.92915,     0.93204,     0.93025,     0.92958,     0.92906,     0.92886,     0.93578,     0.94271,      0.9452,     0.94479,     0.94442,      0.9443,     0.94417,     0.94404,     0.94392,     0.94379,     0.94367,     0.94354,     0.94341,     0.94275,\n",
              "             0.9454,     0.95298,     0.96055,     0.96026,     0.95833,     0.95822,     0.95812,     0.95801,      0.9579,      0.9578,     0.95769,     0.95758,     0.95748,     0.95676,     0.95615,     0.95566,     0.95537,     0.95514,     0.95491,     0.95468,     0.95432,     0.95378,     0.95336,\n",
              "            0.95307,     0.95279,     0.95251,     0.95212,     0.95164,     0.95112,     0.95029,     0.94983,     0.94957,      0.9493,     0.94904,     0.94878,     0.94829,     0.94774,     0.94543,     0.94436,     0.94413,      0.9439,     0.94366,     0.94343,      0.9432,     0.94297,     0.94274,\n",
              "            0.94253,     0.94231,      0.9421,     0.94188,     0.94167,     0.94145,     0.94124,       0.941,     0.94076,     0.94051,     0.94027,     0.94002,     0.93978,     0.93954,     0.93929,     0.93903,     0.93877,     0.93851,     0.93825,     0.93799,     0.93773,      0.9374,     0.93637,\n",
              "            0.93541,     0.93492,     0.93443,     0.93394,     0.93346,     0.93077,     0.92976,     0.92875,     0.92396,     0.92218,     0.92113,     0.92008,     0.95799,     0.95762,     0.95725,     0.95688,     0.95634,     0.95204,     0.94708,     0.94658,     0.94608,     0.94558,     0.94508,\n",
              "            0.94458,     0.94201,     0.94037,     0.93929,     0.93821,     0.93738,     0.93702,     0.93667,     0.93631,     0.93596,      0.9356,     0.93524,     0.93489,     0.93453,     0.93418,     0.93382,     0.93346,     0.93265,     0.93156,     0.93048,      0.9294,     0.92823,     0.92683,\n",
              "            0.92542,     0.92401,      0.9229,     0.92237,     0.92185,     0.92132,      0.9208,     0.92027,     0.91975,     0.91922,     0.91869,     0.91817,     0.91764,     0.91712,      0.9165,      0.9153,     0.91411,     0.91291,     0.91172,     0.91052,     0.90933,     0.89881,     0.89501,\n",
              "            0.89122,     0.91829,     0.99422,           1,           1,           1,           1,           1,           1,           1,           1,           1,           1,           1,           1,           1,           1,           1,           1,           1,           1,           1,           1,\n",
              "                  1,           1,           1,           1,           1,           1,           1,           1,           1,           1,           1,           1,           1,           1,           1,           1,           1,           1,           1,           1,           1,           1,           1,\n",
              "                  1,           1,           1,           1,           1,           1,           1,           1,           1,           1,           1,           1,           1,           1,           1,           1,           1,           1,           1,           1,           1,           1,           1,\n",
              "                  1,           1,           1,           1,           1,           1,           1,           1,           1,           1,           1,           1,           1,           1,           1,           1,           1,           1,           1,           1,           1,           1,           1,\n",
              "                  1,           1,           1,           1,           1,           1,           1,           1,           1,           1,           1,           1,           1,           1,           1,           1,           1,           1,           1,           1,           1,           1,           1,\n",
              "                  1,           1,           1,           1,           1,           1,           1,           1,           1,           1,           1]]), 'Confidence', 'Precision'], [array([          0,    0.001001,    0.002002,    0.003003,    0.004004,    0.005005,    0.006006,    0.007007,    0.008008,    0.009009,     0.01001,    0.011011,    0.012012,    0.013013,    0.014014,    0.015015,    0.016016,    0.017017,    0.018018,    0.019019,     0.02002,    0.021021,    0.022022,    0.023023,\n",
              "          0.024024,    0.025025,    0.026026,    0.027027,    0.028028,    0.029029,     0.03003,    0.031031,    0.032032,    0.033033,    0.034034,    0.035035,    0.036036,    0.037037,    0.038038,    0.039039,     0.04004,    0.041041,    0.042042,    0.043043,    0.044044,    0.045045,    0.046046,    0.047047,\n",
              "          0.048048,    0.049049,     0.05005,    0.051051,    0.052052,    0.053053,    0.054054,    0.055055,    0.056056,    0.057057,    0.058058,    0.059059,     0.06006,    0.061061,    0.062062,    0.063063,    0.064064,    0.065065,    0.066066,    0.067067,    0.068068,    0.069069,     0.07007,    0.071071,\n",
              "          0.072072,    0.073073,    0.074074,    0.075075,    0.076076,    0.077077,    0.078078,    0.079079,     0.08008,    0.081081,    0.082082,    0.083083,    0.084084,    0.085085,    0.086086,    0.087087,    0.088088,    0.089089,     0.09009,    0.091091,    0.092092,    0.093093,    0.094094,    0.095095,\n",
              "          0.096096,    0.097097,    0.098098,    0.099099,      0.1001,      0.1011,      0.1021,      0.1031,      0.1041,     0.10511,     0.10611,     0.10711,     0.10811,     0.10911,     0.11011,     0.11111,     0.11211,     0.11311,     0.11411,     0.11512,     0.11612,     0.11712,     0.11812,     0.11912,\n",
              "           0.12012,     0.12112,     0.12212,     0.12312,     0.12412,     0.12513,     0.12613,     0.12713,     0.12813,     0.12913,     0.13013,     0.13113,     0.13213,     0.13313,     0.13413,     0.13514,     0.13614,     0.13714,     0.13814,     0.13914,     0.14014,     0.14114,     0.14214,     0.14314,\n",
              "           0.14414,     0.14515,     0.14615,     0.14715,     0.14815,     0.14915,     0.15015,     0.15115,     0.15215,     0.15315,     0.15415,     0.15516,     0.15616,     0.15716,     0.15816,     0.15916,     0.16016,     0.16116,     0.16216,     0.16316,     0.16416,     0.16517,     0.16617,     0.16717,\n",
              "           0.16817,     0.16917,     0.17017,     0.17117,     0.17217,     0.17317,     0.17417,     0.17518,     0.17618,     0.17718,     0.17818,     0.17918,     0.18018,     0.18118,     0.18218,     0.18318,     0.18418,     0.18519,     0.18619,     0.18719,     0.18819,     0.18919,     0.19019,     0.19119,\n",
              "           0.19219,     0.19319,     0.19419,      0.1952,      0.1962,      0.1972,      0.1982,      0.1992,      0.2002,      0.2012,      0.2022,      0.2032,      0.2042,     0.20521,     0.20621,     0.20721,     0.20821,     0.20921,     0.21021,     0.21121,     0.21221,     0.21321,     0.21421,     0.21522,\n",
              "           0.21622,     0.21722,     0.21822,     0.21922,     0.22022,     0.22122,     0.22222,     0.22322,     0.22422,     0.22523,     0.22623,     0.22723,     0.22823,     0.22923,     0.23023,     0.23123,     0.23223,     0.23323,     0.23423,     0.23524,     0.23624,     0.23724,     0.23824,     0.23924,\n",
              "           0.24024,     0.24124,     0.24224,     0.24324,     0.24424,     0.24525,     0.24625,     0.24725,     0.24825,     0.24925,     0.25025,     0.25125,     0.25225,     0.25325,     0.25425,     0.25526,     0.25626,     0.25726,     0.25826,     0.25926,     0.26026,     0.26126,     0.26226,     0.26326,\n",
              "           0.26426,     0.26527,     0.26627,     0.26727,     0.26827,     0.26927,     0.27027,     0.27127,     0.27227,     0.27327,     0.27427,     0.27528,     0.27628,     0.27728,     0.27828,     0.27928,     0.28028,     0.28128,     0.28228,     0.28328,     0.28428,     0.28529,     0.28629,     0.28729,\n",
              "           0.28829,     0.28929,     0.29029,     0.29129,     0.29229,     0.29329,     0.29429,      0.2953,      0.2963,      0.2973,      0.2983,      0.2993,      0.3003,      0.3013,      0.3023,      0.3033,      0.3043,     0.30531,     0.30631,     0.30731,     0.30831,     0.30931,     0.31031,     0.31131,\n",
              "           0.31231,     0.31331,     0.31431,     0.31532,     0.31632,     0.31732,     0.31832,     0.31932,     0.32032,     0.32132,     0.32232,     0.32332,     0.32432,     0.32533,     0.32633,     0.32733,     0.32833,     0.32933,     0.33033,     0.33133,     0.33233,     0.33333,     0.33433,     0.33534,\n",
              "           0.33634,     0.33734,     0.33834,     0.33934,     0.34034,     0.34134,     0.34234,     0.34334,     0.34434,     0.34535,     0.34635,     0.34735,     0.34835,     0.34935,     0.35035,     0.35135,     0.35235,     0.35335,     0.35435,     0.35536,     0.35636,     0.35736,     0.35836,     0.35936,\n",
              "           0.36036,     0.36136,     0.36236,     0.36336,     0.36436,     0.36537,     0.36637,     0.36737,     0.36837,     0.36937,     0.37037,     0.37137,     0.37237,     0.37337,     0.37437,     0.37538,     0.37638,     0.37738,     0.37838,     0.37938,     0.38038,     0.38138,     0.38238,     0.38338,\n",
              "           0.38438,     0.38539,     0.38639,     0.38739,     0.38839,     0.38939,     0.39039,     0.39139,     0.39239,     0.39339,     0.39439,      0.3954,      0.3964,      0.3974,      0.3984,      0.3994,      0.4004,      0.4014,      0.4024,      0.4034,      0.4044,     0.40541,     0.40641,     0.40741,\n",
              "           0.40841,     0.40941,     0.41041,     0.41141,     0.41241,     0.41341,     0.41441,     0.41542,     0.41642,     0.41742,     0.41842,     0.41942,     0.42042,     0.42142,     0.42242,     0.42342,     0.42442,     0.42543,     0.42643,     0.42743,     0.42843,     0.42943,     0.43043,     0.43143,\n",
              "           0.43243,     0.43343,     0.43443,     0.43544,     0.43644,     0.43744,     0.43844,     0.43944,     0.44044,     0.44144,     0.44244,     0.44344,     0.44444,     0.44545,     0.44645,     0.44745,     0.44845,     0.44945,     0.45045,     0.45145,     0.45245,     0.45345,     0.45445,     0.45546,\n",
              "           0.45646,     0.45746,     0.45846,     0.45946,     0.46046,     0.46146,     0.46246,     0.46346,     0.46446,     0.46547,     0.46647,     0.46747,     0.46847,     0.46947,     0.47047,     0.47147,     0.47247,     0.47347,     0.47447,     0.47548,     0.47648,     0.47748,     0.47848,     0.47948,\n",
              "           0.48048,     0.48148,     0.48248,     0.48348,     0.48448,     0.48549,     0.48649,     0.48749,     0.48849,     0.48949,     0.49049,     0.49149,     0.49249,     0.49349,     0.49449,      0.4955,      0.4965,      0.4975,      0.4985,      0.4995,      0.5005,      0.5015,      0.5025,      0.5035,\n",
              "            0.5045,     0.50551,     0.50651,     0.50751,     0.50851,     0.50951,     0.51051,     0.51151,     0.51251,     0.51351,     0.51451,     0.51552,     0.51652,     0.51752,     0.51852,     0.51952,     0.52052,     0.52152,     0.52252,     0.52352,     0.52452,     0.52553,     0.52653,     0.52753,\n",
              "           0.52853,     0.52953,     0.53053,     0.53153,     0.53253,     0.53353,     0.53453,     0.53554,     0.53654,     0.53754,     0.53854,     0.53954,     0.54054,     0.54154,     0.54254,     0.54354,     0.54454,     0.54555,     0.54655,     0.54755,     0.54855,     0.54955,     0.55055,     0.55155,\n",
              "           0.55255,     0.55355,     0.55455,     0.55556,     0.55656,     0.55756,     0.55856,     0.55956,     0.56056,     0.56156,     0.56256,     0.56356,     0.56456,     0.56557,     0.56657,     0.56757,     0.56857,     0.56957,     0.57057,     0.57157,     0.57257,     0.57357,     0.57457,     0.57558,\n",
              "           0.57658,     0.57758,     0.57858,     0.57958,     0.58058,     0.58158,     0.58258,     0.58358,     0.58458,     0.58559,     0.58659,     0.58759,     0.58859,     0.58959,     0.59059,     0.59159,     0.59259,     0.59359,     0.59459,      0.5956,      0.5966,      0.5976,      0.5986,      0.5996,\n",
              "            0.6006,      0.6016,      0.6026,      0.6036,      0.6046,     0.60561,     0.60661,     0.60761,     0.60861,     0.60961,     0.61061,     0.61161,     0.61261,     0.61361,     0.61461,     0.61562,     0.61662,     0.61762,     0.61862,     0.61962,     0.62062,     0.62162,     0.62262,     0.62362,\n",
              "           0.62462,     0.62563,     0.62663,     0.62763,     0.62863,     0.62963,     0.63063,     0.63163,     0.63263,     0.63363,     0.63463,     0.63564,     0.63664,     0.63764,     0.63864,     0.63964,     0.64064,     0.64164,     0.64264,     0.64364,     0.64464,     0.64565,     0.64665,     0.64765,\n",
              "           0.64865,     0.64965,     0.65065,     0.65165,     0.65265,     0.65365,     0.65465,     0.65566,     0.65666,     0.65766,     0.65866,     0.65966,     0.66066,     0.66166,     0.66266,     0.66366,     0.66466,     0.66567,     0.66667,     0.66767,     0.66867,     0.66967,     0.67067,     0.67167,\n",
              "           0.67267,     0.67367,     0.67467,     0.67568,     0.67668,     0.67768,     0.67868,     0.67968,     0.68068,     0.68168,     0.68268,     0.68368,     0.68468,     0.68569,     0.68669,     0.68769,     0.68869,     0.68969,     0.69069,     0.69169,     0.69269,     0.69369,     0.69469,      0.6957,\n",
              "            0.6967,      0.6977,      0.6987,      0.6997,      0.7007,      0.7017,      0.7027,      0.7037,      0.7047,     0.70571,     0.70671,     0.70771,     0.70871,     0.70971,     0.71071,     0.71171,     0.71271,     0.71371,     0.71471,     0.71572,     0.71672,     0.71772,     0.71872,     0.71972,\n",
              "           0.72072,     0.72172,     0.72272,     0.72372,     0.72472,     0.72573,     0.72673,     0.72773,     0.72873,     0.72973,     0.73073,     0.73173,     0.73273,     0.73373,     0.73473,     0.73574,     0.73674,     0.73774,     0.73874,     0.73974,     0.74074,     0.74174,     0.74274,     0.74374,\n",
              "           0.74474,     0.74575,     0.74675,     0.74775,     0.74875,     0.74975,     0.75075,     0.75175,     0.75275,     0.75375,     0.75475,     0.75576,     0.75676,     0.75776,     0.75876,     0.75976,     0.76076,     0.76176,     0.76276,     0.76376,     0.76476,     0.76577,     0.76677,     0.76777,\n",
              "           0.76877,     0.76977,     0.77077,     0.77177,     0.77277,     0.77377,     0.77477,     0.77578,     0.77678,     0.77778,     0.77878,     0.77978,     0.78078,     0.78178,     0.78278,     0.78378,     0.78478,     0.78579,     0.78679,     0.78779,     0.78879,     0.78979,     0.79079,     0.79179,\n",
              "           0.79279,     0.79379,     0.79479,      0.7958,      0.7968,      0.7978,      0.7988,      0.7998,      0.8008,      0.8018,      0.8028,      0.8038,      0.8048,     0.80581,     0.80681,     0.80781,     0.80881,     0.80981,     0.81081,     0.81181,     0.81281,     0.81381,     0.81481,     0.81582,\n",
              "           0.81682,     0.81782,     0.81882,     0.81982,     0.82082,     0.82182,     0.82282,     0.82382,     0.82482,     0.82583,     0.82683,     0.82783,     0.82883,     0.82983,     0.83083,     0.83183,     0.83283,     0.83383,     0.83483,     0.83584,     0.83684,     0.83784,     0.83884,     0.83984,\n",
              "           0.84084,     0.84184,     0.84284,     0.84384,     0.84484,     0.84585,     0.84685,     0.84785,     0.84885,     0.84985,     0.85085,     0.85185,     0.85285,     0.85385,     0.85485,     0.85586,     0.85686,     0.85786,     0.85886,     0.85986,     0.86086,     0.86186,     0.86286,     0.86386,\n",
              "           0.86486,     0.86587,     0.86687,     0.86787,     0.86887,     0.86987,     0.87087,     0.87187,     0.87287,     0.87387,     0.87487,     0.87588,     0.87688,     0.87788,     0.87888,     0.87988,     0.88088,     0.88188,     0.88288,     0.88388,     0.88488,     0.88589,     0.88689,     0.88789,\n",
              "           0.88889,     0.88989,     0.89089,     0.89189,     0.89289,     0.89389,     0.89489,      0.8959,      0.8969,      0.8979,      0.8989,      0.8999,      0.9009,      0.9019,      0.9029,      0.9039,      0.9049,     0.90591,     0.90691,     0.90791,     0.90891,     0.90991,     0.91091,     0.91191,\n",
              "           0.91291,     0.91391,     0.91491,     0.91592,     0.91692,     0.91792,     0.91892,     0.91992,     0.92092,     0.92192,     0.92292,     0.92392,     0.92492,     0.92593,     0.92693,     0.92793,     0.92893,     0.92993,     0.93093,     0.93193,     0.93293,     0.93393,     0.93493,     0.93594,\n",
              "           0.93694,     0.93794,     0.93894,     0.93994,     0.94094,     0.94194,     0.94294,     0.94394,     0.94494,     0.94595,     0.94695,     0.94795,     0.94895,     0.94995,     0.95095,     0.95195,     0.95295,     0.95395,     0.95495,     0.95596,     0.95696,     0.95796,     0.95896,     0.95996,\n",
              "           0.96096,     0.96196,     0.96296,     0.96396,     0.96496,     0.96597,     0.96697,     0.96797,     0.96897,     0.96997,     0.97097,     0.97197,     0.97297,     0.97397,     0.97497,     0.97598,     0.97698,     0.97798,     0.97898,     0.97998,     0.98098,     0.98198,     0.98298,     0.98398,\n",
              "           0.98498,     0.98599,     0.98699,     0.98799,     0.98899,     0.98999,     0.99099,     0.99199,     0.99299,     0.99399,     0.99499,       0.996,       0.997,       0.998,       0.999,           1]), array([[    0.94872,     0.94872,      0.9359,      0.9359,      0.9359,      0.9359,      0.9359,     0.92949,     0.92949,     0.92949,     0.92949,     0.92949,     0.92949,     0.92949,     0.92949,     0.92949,     0.92949,     0.92308,     0.92308,     0.92308,     0.92308,     0.92308,     0.92308,\n",
              "            0.92308,     0.92179,     0.91667,     0.91667,     0.91667,     0.91026,     0.91026,     0.91026,     0.91026,     0.91026,     0.91026,     0.90385,     0.90385,     0.89877,     0.89744,     0.89744,     0.89744,     0.89103,     0.89103,     0.89103,     0.89103,     0.89103,     0.89103,\n",
              "            0.89103,     0.89103,     0.89103,     0.88462,     0.88462,     0.88462,     0.88462,     0.88462,      0.8819,     0.87821,     0.87821,     0.87821,     0.87821,     0.87821,     0.87821,     0.87821,     0.87821,     0.87821,     0.87821,     0.87497,     0.86565,     0.86538,     0.86538,\n",
              "            0.86538,     0.86538,     0.86538,     0.86538,     0.86538,     0.86538,     0.86538,     0.86538,     0.86538,     0.86538,     0.86538,     0.86538,     0.86538,     0.86538,     0.86538,     0.85949,     0.85897,     0.85897,     0.85897,     0.85897,     0.85897,     0.85897,     0.85897,\n",
              "            0.85897,     0.85897,     0.85897,     0.85897,     0.85897,     0.85897,     0.85897,     0.85897,     0.85897,     0.85897,     0.85897,     0.85897,     0.85897,     0.85897,     0.85897,     0.85897,     0.85897,     0.85897,     0.85897,     0.85897,     0.85897,     0.85897,     0.85897,\n",
              "            0.85897,     0.85897,     0.85897,     0.85897,     0.85897,     0.85415,     0.85256,     0.85256,     0.85256,     0.85256,     0.85256,     0.85256,     0.85256,     0.85256,     0.85256,     0.85256,     0.85119,     0.84768,     0.84554,     0.84444,     0.84335,     0.84225,     0.84116,\n",
              "            0.84006,     0.83974,     0.83974,     0.83974,     0.83974,     0.83974,     0.83974,     0.83974,     0.83974,     0.83974,     0.83974,     0.83974,     0.83974,     0.83974,     0.83974,     0.83974,     0.83974,     0.83974,     0.83974,     0.83974,     0.83974,     0.83974,     0.83974,\n",
              "            0.83974,     0.83974,     0.83974,     0.83974,     0.83974,     0.83974,     0.83974,     0.83974,     0.83974,     0.83974,     0.83974,     0.83974,     0.83974,     0.83974,     0.83974,     0.83937,     0.83333,     0.83333,     0.83333,     0.83333,     0.83333,     0.83333,     0.83333,\n",
              "            0.83333,     0.83333,     0.83333,     0.83333,     0.83333,     0.83333,     0.83333,     0.83333,     0.83289,     0.83138,     0.82988,     0.82838,     0.82692,     0.82692,     0.82692,     0.82692,     0.82692,     0.82692,     0.82692,     0.82692,     0.82692,     0.82692,     0.82692,\n",
              "            0.82692,     0.82692,     0.82664,     0.82582,       0.825,     0.82417,     0.82335,     0.82253,     0.82171,     0.82089,     0.81993,     0.81886,     0.81779,     0.81671,     0.81564,     0.81457,      0.8141,      0.8141,      0.8141,      0.8141,      0.8141,      0.8141,      0.8141,\n",
              "             0.8141,      0.8141,      0.8141,      0.8141,      0.8141,      0.8141,      0.8141,      0.8141,      0.8141,      0.8141,      0.8141,      0.8141,      0.8141,      0.8141,     0.80892,     0.80694,     0.80606,     0.80519,     0.80431,     0.80343,     0.80256,     0.80168,     0.80128,\n",
              "            0.80128,     0.80128,     0.80128,     0.80128,     0.80128,     0.80128,     0.80128,     0.80128,     0.80128,     0.80128,     0.80128,     0.80128,     0.80128,     0.80128,     0.80128,     0.80128,     0.80128,     0.80128,     0.80128,     0.80128,     0.80128,     0.80128,     0.80128,\n",
              "            0.80128,     0.80128,     0.80128,     0.80128,     0.80128,     0.80128,     0.80128,     0.80128,     0.80097,     0.80045,     0.79992,     0.79939,     0.79887,     0.79834,     0.79782,     0.79729,     0.79677,     0.79624,     0.79571,     0.79519,     0.79487,     0.79487,     0.79487,\n",
              "            0.79487,     0.79487,     0.79487,     0.79487,     0.79487,     0.79487,     0.79487,     0.79487,     0.79312,     0.79049,     0.78846,     0.78846,     0.78846,     0.78846,     0.78846,     0.78846,     0.78846,     0.78846,     0.78846,     0.78846,     0.78846,     0.78846,     0.78803,\n",
              "            0.78721,     0.78639,     0.78557,     0.78475,     0.78393,     0.78311,     0.78229,     0.78205,     0.78205,     0.78024,     0.77564,     0.77564,     0.77564,     0.77564,     0.77564,     0.77564,     0.77564,     0.77564,     0.77564,     0.77564,     0.77564,     0.77564,     0.77564,\n",
              "            0.77564,     0.77564,     0.77564,     0.77564,     0.77564,     0.77564,     0.77564,     0.77564,     0.77564,     0.77564,     0.77564,     0.77564,     0.77564,     0.77564,     0.77564,     0.77564,     0.77564,     0.77564,     0.77564,     0.77564,     0.77564,     0.77564,     0.77564,\n",
              "            0.77564,     0.77564,     0.77564,     0.77564,     0.77564,     0.77564,     0.77564,     0.77564,     0.77564,     0.77564,     0.77564,     0.77564,     0.77564,     0.77564,     0.77564,     0.77564,     0.77564,     0.77564,     0.77564,     0.77564,     0.77564,     0.77564,     0.77564,\n",
              "            0.77562,     0.77505,     0.77448,     0.77391,     0.77334,     0.77276,     0.77219,     0.77162,     0.77105,     0.77048,     0.76991,     0.76934,     0.76923,     0.76372,     0.76282,     0.76282,     0.76282,     0.76282,     0.76282,     0.76282,     0.76282,     0.76282,     0.76282,\n",
              "            0.76282,     0.76282,     0.76282,     0.76282,     0.76282,     0.76238,     0.76177,     0.76116,     0.76055,     0.75994,     0.75933,     0.75871,      0.7581,     0.75749,     0.75688,     0.75591,     0.75372,     0.75153,     0.74934,     0.74715,     0.74496,      0.7434,     0.74288,\n",
              "            0.74237,     0.74185,     0.74133,     0.74082,      0.7403,     0.73979,     0.73927,     0.73876,     0.73824,     0.73773,     0.73721,     0.73564,       0.734,     0.73235,     0.73077,     0.73077,     0.73022,      0.7243,     0.72379,     0.72327,     0.72276,     0.72224,     0.72173,\n",
              "            0.72121,      0.7207,     0.72018,     0.71966,     0.71915,     0.71863,     0.71812,     0.71795,      0.7173,     0.71636,     0.71542,     0.71448,     0.71354,      0.7126,     0.71166,     0.71154,     0.71154,     0.71154,     0.71154,     0.71154,      0.7115,     0.70821,     0.70506,\n",
              "            0.70397,     0.70287,     0.70178,     0.70068,     0.69959,     0.69872,     0.69872,     0.69872,     0.69872,     0.69872,     0.69872,     0.69872,     0.69872,     0.69872,     0.69872,     0.69872,     0.69872,     0.69872,     0.69872,     0.69872,     0.69872,     0.69793,     0.69662,\n",
              "             0.6953,     0.69399,     0.69268,     0.68117,     0.67826,     0.67662,     0.67498,     0.67334,     0.66755,     0.66572,     0.66462,     0.66353,     0.66243,     0.66134,     0.66025,     0.65959,     0.65893,     0.65828,     0.65762,     0.65696,     0.65631,     0.65565,     0.65499,\n",
              "            0.65433,     0.65385,     0.65385,     0.65385,     0.65168,     0.64718,     0.64645,     0.64572,     0.64499,     0.64426,     0.64353,      0.6428,     0.64207,     0.64134,     0.64103,     0.63265,     0.62936,     0.62786,     0.62734,     0.62681,     0.62629,     0.62576,     0.62524,\n",
              "            0.62471,     0.62419,     0.62366,     0.62313,     0.62261,     0.62208,     0.62105,     0.61941,     0.61777,     0.61612,     0.61538,     0.61538,     0.61538,     0.61538,     0.61538,     0.60787,     0.60623,     0.60458,     0.60294,     0.60172,     0.60063,     0.59953,     0.59844,\n",
              "            0.59734,     0.59625,     0.59013,     0.58665,     0.58337,     0.58257,      0.5818,     0.58102,     0.58025,     0.57948,      0.5787,     0.57793,     0.57716,     0.57692,     0.57692,     0.57692,     0.57692,     0.57692,     0.57692,     0.57692,     0.57692,     0.56918,      0.5659,\n",
              "            0.56112,     0.55455,     0.55128,     0.55128,     0.54463,     0.54419,     0.54375,     0.54332,     0.54288,     0.54244,       0.542,     0.54156,     0.54113,     0.54069,     0.54025,     0.53981,     0.53937,     0.53894,      0.5385,     0.53695,     0.53531,     0.53367,     0.53202,\n",
              "            0.52983,     0.52764,     0.52541,     0.52278,     0.52015,      0.5171,     0.51381,     0.51253,     0.51212,     0.51171,      0.5113,     0.51089,     0.51048,     0.51007,     0.50966,     0.50925,     0.50884,     0.50843,     0.50802,     0.50761,      0.5072,     0.50678,     0.50624,\n",
              "            0.50437,     0.50249,     0.50061,     0.49945,     0.49862,      0.4978,     0.49698,     0.49616,     0.49534,     0.49452,      0.4937,     0.49288,     0.49205,     0.49123,     0.49041,     0.48959,     0.48877,     0.48795,     0.48708,     0.48562,     0.48416,      0.4827,     0.48124,\n",
              "             0.4795,     0.47763,     0.47575,     0.47387,     0.47199,     0.47012,     0.46824,     0.46636,     0.46448,     0.46261,     0.46059,      0.4584,     0.45621,      0.4538,     0.45117,     0.44829,     0.44113,     0.43194,     0.42784,     0.42521,     0.41644,     0.41525,     0.41405,\n",
              "            0.41286,     0.41166,     0.41047,     0.40666,      0.4029,     0.40028,     0.39765,     0.39139,     0.38366,     0.38265,     0.38164,     0.38063,     0.37962,     0.37861,      0.3776,     0.37659,     0.37557,     0.37456,     0.37355,     0.37254,     0.37094,     0.36765,     0.35256,\n",
              "            0.35256,     0.35256,     0.35256,     0.35256,     0.35256,     0.34202,     0.33848,     0.33585,     0.33333,     0.33333,     0.33333,     0.33175,     0.32912,      0.3268,     0.32602,     0.32525,     0.32448,      0.3237,     0.32293,     0.32216,     0.32139,     0.32061,     0.31669,\n",
              "             0.3141,      0.3141,      0.3141,     0.30986,     0.29486,     0.29408,     0.29331,     0.29254,     0.29177,     0.29099,     0.29022,     0.28945,     0.28867,     0.28369,     0.27959,      0.2763,     0.27447,     0.27301,     0.27155,     0.27009,     0.26789,      0.2646,     0.26207,\n",
              "            0.26043,     0.25878,     0.25714,     0.25495,     0.25232,     0.24949,     0.24511,     0.24273,     0.24142,      0.2401,     0.23879,     0.23748,     0.23514,     0.23251,     0.22215,     0.21761,     0.21667,     0.21573,     0.21479,     0.21386,     0.21292,     0.21198,      0.2111,\n",
              "            0.21028,     0.20946,     0.20864,     0.20782,       0.207,     0.20617,     0.20535,     0.20449,     0.20362,     0.20274,     0.20186,     0.20099,     0.20011,     0.19924,     0.19836,     0.19748,     0.19661,     0.19573,     0.19485,     0.19398,      0.1931,       0.192,     0.18872,\n",
              "            0.18569,     0.18423,     0.18277,     0.18131,     0.17985,     0.17238,     0.16976,     0.16713,     0.15583,     0.15199,      0.1498,     0.14761,     0.14622,     0.14491,      0.1436,     0.14228,     0.14044,      0.1273,     0.11475,     0.11365,     0.11256,     0.11146,     0.11037,\n",
              "            0.10927,     0.10419,     0.10115,    0.099275,    0.097398,    0.095969,    0.095422,    0.094874,    0.094326,    0.093779,    0.093231,    0.092684,    0.092136,    0.091589,    0.091041,    0.090494,    0.089946,    0.088823,    0.087363,    0.085903,    0.084443,    0.082939,    0.081296,\n",
              "           0.079653,    0.078011,    0.076745,     0.07622,    0.075694,    0.075169,    0.074643,    0.074117,    0.073592,    0.073066,     0.07254,    0.072015,    0.071489,    0.070963,    0.070368,    0.069357,    0.068346,    0.067336,    0.066325,    0.065314,    0.064303,    0.057005,    0.054814,\n",
              "           0.052624,    0.051282,    0.051282,    0.050415,    0.049476,    0.048538,    0.047599,     0.04666,    0.045722,    0.044794,    0.043973,    0.043151,     0.04233,    0.041509,    0.040687,    0.039866,    0.039045,    0.037509,    0.034223,     0.03188,    0.031375,    0.030869,    0.030364,\n",
              "           0.029858,    0.029353,    0.028847,    0.028342,    0.027837,    0.027331,    0.026826,     0.02632,    0.025815,     0.02549,    0.025259,    0.025029,    0.024798,    0.024568,    0.024337,    0.024106,    0.023876,    0.023645,    0.023415,    0.023184,    0.022954,    0.022723,    0.022493,\n",
              "           0.022262,    0.022031,    0.021801,     0.02157,     0.02134,    0.021109,    0.020879,    0.020648,    0.020418,    0.020187,    0.019957,    0.019726,    0.019495,    0.019265,    0.018641,     0.01795,    0.017258,    0.016566,    0.015875,    0.015183,    0.014492,      0.0138,    0.013108,\n",
              "           0.012417,    0.011725,    0.011033,    0.010342,     0.00965,   0.0089584,   0.0082667,   0.0075751,   0.0068834,           0,           0,           0,           0,           0,           0,           0,           0,           0,           0,           0,           0,           0,           0,\n",
              "                  0,           0,           0,           0,           0,           0,           0,           0,           0,           0,           0,           0,           0,           0,           0,           0,           0,           0,           0,           0,           0,           0,           0,\n",
              "                  0,           0,           0,           0,           0,           0,           0,           0,           0,           0,           0]]), 'Confidence', 'Recall']]\n",
              "fitness: np.float64(0.48773598692557707)\n",
              "keys: ['metrics/precision(B)', 'metrics/recall(B)', 'metrics/mAP50(B)', 'metrics/mAP50-95(B)']\n",
              "maps: array([    0.44988])\n",
              "names: {0: 'cigarette'}\n",
              "nt_per_class: array([156])\n",
              "nt_per_image: array([155])\n",
              "results_dict: {'metrics/precision(B)': np.float64(0.8578820439751677), 'metrics/recall(B)': np.float64(0.7739075474582722), 'metrics/mAP50(B)': np.float64(0.8284395924424675), 'metrics/mAP50-95(B)': np.float64(0.44988003075703364), 'fitness': np.float64(0.48773598692557707)}\n",
              "save_dir: PosixPath('runs/detect/train')\n",
              "speed: {'preprocess': 0.3231735354831706, 'inference': 11.107511916126837, 'loss': 0.0021135806432979617, 'postprocess': 5.676428174193726}\n",
              "stats: {'tp': [], 'conf': [], 'pred_cls': [], 'target_cls': [], 'target_img': []}\n",
              "task: 'detect'"
            ]
          },
          "metadata": {},
          "execution_count": 7
        }
      ]
    },
    {
      "cell_type": "code",
      "source": [
        "model = YOLO('/content/runs/detect/train/weights/best.pt')"
      ],
      "metadata": {
        "id": "MT7HlC32VRfa"
      },
      "execution_count": null,
      "outputs": []
    },
    {
      "cell_type": "code",
      "source": [
        "metrics = model.val(data=\"/content/cigarette-3/data.yaml\")"
      ],
      "metadata": {
        "collapsed": true,
        "id": "rBJ9tHucUtfZ",
        "colab": {
          "base_uri": "https://localhost:8080/"
        },
        "outputId": "3f50e342-98ee-49de-93b4-08153568e6cf"
      },
      "execution_count": null,
      "outputs": [
        {
          "output_type": "stream",
          "name": "stdout",
          "text": [
            "Ultralytics 8.3.168 🚀 Python-3.11.13 torch-2.6.0+cu124 CUDA:0 (Tesla T4, 15095MiB)\n",
            "YOLO11m summary (fused): 125 layers, 20,030,803 parameters, 0 gradients, 67.6 GFLOPs\n",
            "\u001b[34m\u001b[1mval: \u001b[0mFast image access ✅ (ping: 0.0±0.0 ms, read: 968.2±261.6 MB/s, size: 37.4 KB)\n"
          ]
        },
        {
          "output_type": "stream",
          "name": "stderr",
          "text": [
            "\u001b[34m\u001b[1mval: \u001b[0mScanning /content/cigarette-3/valid/labels.cache... 155 images, 0 backgrounds, 0 corrupt: 100%|██████████| 155/155 [00:00<?, ?it/s]"
          ]
        },
        {
          "output_type": "stream",
          "name": "stdout",
          "text": [
            "WARNING ⚠️ cache='ram' may produce non-deterministic training results. Consider cache='disk' as a deterministic alternative if your disk space allows.\n"
          ]
        },
        {
          "output_type": "stream",
          "name": "stderr",
          "text": [
            "\n",
            "\u001b[34m\u001b[1mval: \u001b[0mCaching images (0.2GB RAM): 100%|██████████| 155/155 [00:00<00:00, 354.92it/s]\n",
            "                 Class     Images  Instances      Box(P          R      mAP50  mAP50-95): 100%|██████████| 10/10 [00:05<00:00,  1.84it/s]\n"
          ]
        },
        {
          "output_type": "stream",
          "name": "stdout",
          "text": [
            "                   all        155        156      0.856      0.769      0.829      0.447\n",
            "Speed: 3.0ms preprocess, 23.9ms inference, 0.0ms loss, 2.5ms postprocess per image\n",
            "Results saved to \u001b[1mruns/detect/train2\u001b[0m\n"
          ]
        }
      ]
    },
    {
      "cell_type": "code",
      "source": [
        "print(f\"mAP@0.5: {metrics.box.map50:.4f}\")\n",
        "print(f\"mAP@0.5:0.95: {metrics.box.map:.4f}\")\n",
        "print(f\"Mean Precision: {metrics.box.mp:.4f}\")\n",
        "print(f\"Mean Recall: {metrics.box.mr:.4f}\")\n"
      ],
      "metadata": {
        "collapsed": true,
        "id": "il3A1XQbSHHg",
        "colab": {
          "base_uri": "https://localhost:8080/"
        },
        "outputId": "d434b716-d4d3-400b-d3c7-30f19e355dca"
      },
      "execution_count": null,
      "outputs": [
        {
          "output_type": "stream",
          "name": "stdout",
          "text": [
            "mAP@0.5: 0.8290\n",
            "mAP@0.5:0.95: 0.4469\n",
            "Mean Precision: 0.8562\n",
            "Mean Recall: 0.7692\n"
          ]
        }
      ]
    },
    {
      "cell_type": "code",
      "source": [
        "names = model.names  # class index to name mapping\n",
        "\n",
        "for i, name in names.items():\n",
        "    precision = metrics.box.p[i]\n",
        "    recall = metrics.box.r[i]\n",
        "    ap50 = metrics.box.ap50[i]  # no ()\n",
        "    ap = metrics.box.ap[i]      # no ()\n",
        "    print(f\"{name:<12} | P: {precision:.3f} R: {recall:.3f} AP@0.5: {ap50:.3f} AP@0.5:0.95: {ap:.3f}\")\n"
      ],
      "metadata": {
        "collapsed": true,
        "id": "TeblhcUWWW3_",
        "colab": {
          "base_uri": "https://localhost:8080/"
        },
        "outputId": "0c20d319-bc2d-4f22-b043-8b6f87019495"
      },
      "execution_count": null,
      "outputs": [
        {
          "output_type": "stream",
          "name": "stdout",
          "text": [
            "cigarette    | P: 0.856 R: 0.769 AP@0.5: 0.829 AP@0.5:0.95: 0.447\n"
          ]
        }
      ]
    },
    {
      "cell_type": "code",
      "source": [
        "!zip -r smokeesci_model.zip /content/runs"
      ],
      "metadata": {
        "id": "7k8GbqNUWd-i",
        "colab": {
          "base_uri": "https://localhost:8080/"
        },
        "outputId": "98629c8b-8ded-4954-937f-cec6f7bc565c"
      },
      "execution_count": null,
      "outputs": [
        {
          "output_type": "stream",
          "name": "stdout",
          "text": [
            "  adding: content/runs/ (stored 0%)\n",
            "  adding: content/runs/detect/ (stored 0%)\n",
            "  adding: content/runs/detect/train/ (stored 0%)\n",
            "  adding: content/runs/detect/train/BoxF1_curve.png (deflated 15%)\n",
            "  adding: content/runs/detect/train/BoxR_curve.png (deflated 15%)\n",
            "  adding: content/runs/detect/train/val_batch0_pred.jpg (deflated 9%)\n",
            "  adding: content/runs/detect/train/results.csv (deflated 58%)\n",
            "  adding: content/runs/detect/train/BoxP_curve.png (deflated 16%)\n",
            "  adding: content/runs/detect/train/val_batch1_labels.jpg (deflated 7%)\n",
            "  adding: content/runs/detect/train/train_batch1.jpg (deflated 4%)\n",
            "  adding: content/runs/detect/train/args.yaml (deflated 52%)\n",
            "  adding: content/runs/detect/train/weights/ (stored 0%)\n",
            "  adding: content/runs/detect/train/weights/best.pt (deflated 8%)\n",
            "  adding: content/runs/detect/train/weights/last.pt (deflated 8%)\n",
            "  adding: content/runs/detect/train/confusion_matrix_normalized.png (deflated 35%)\n",
            "  adding: content/runs/detect/train/labels.jpg (deflated 33%)\n",
            "  adding: content/runs/detect/train/val_batch2_labels.jpg (deflated 8%)\n",
            "  adding: content/runs/detect/train/val_batch2_pred.jpg (deflated 8%)\n",
            "  adding: content/runs/detect/train/BoxPR_curve.png (deflated 22%)\n",
            "  adding: content/runs/detect/train/results.png (deflated 7%)\n",
            "  adding: content/runs/detect/train/val_batch1_pred.jpg (deflated 7%)\n",
            "  adding: content/runs/detect/train/confusion_matrix.png (deflated 36%)\n",
            "  adding: content/runs/detect/train/val_batch0_labels.jpg (deflated 9%)\n",
            "  adding: content/runs/detect/train/labels_correlogram.jpg (deflated 36%)\n",
            "  adding: content/runs/detect/train/train_batch0.jpg (deflated 5%)\n",
            "  adding: content/runs/detect/train/train_batch2.jpg (deflated 4%)\n",
            "  adding: content/runs/detect/train2/ (stored 0%)\n",
            "  adding: content/runs/detect/train2/BoxF1_curve.png (deflated 15%)\n",
            "  adding: content/runs/detect/train2/BoxR_curve.png (deflated 15%)\n",
            "  adding: content/runs/detect/train2/val_batch0_pred.jpg (deflated 9%)\n",
            "  adding: content/runs/detect/train2/BoxP_curve.png (deflated 16%)\n",
            "  adding: content/runs/detect/train2/val_batch1_labels.jpg (deflated 11%)\n",
            "  adding: content/runs/detect/train2/confusion_matrix_normalized.png (deflated 35%)\n",
            "  adding: content/runs/detect/train2/val_batch2_labels.jpg (deflated 7%)\n",
            "  adding: content/runs/detect/train2/val_batch2_pred.jpg (deflated 7%)\n",
            "  adding: content/runs/detect/train2/BoxPR_curve.png (deflated 22%)\n",
            "  adding: content/runs/detect/train2/val_batch1_pred.jpg (deflated 11%)\n",
            "  adding: content/runs/detect/train2/confusion_matrix.png (deflated 36%)\n",
            "  adding: content/runs/detect/train2/val_batch0_labels.jpg (deflated 9%)\n"
          ]
        }
      ]
    },
    {
      "cell_type": "code",
      "source": [
        "from google.colab import files\n",
        "files.download('/content/smokeesci_model.zip')"
      ],
      "metadata": {
        "id": "F761oK0fYsEd",
        "colab": {
          "base_uri": "https://localhost:8080/",
          "height": 34
        },
        "outputId": "ede45643-f4f2-44a9-db81-7425b2725009"
      },
      "execution_count": null,
      "outputs": [
        {
          "output_type": "display_data",
          "data": {
            "text/plain": [
              "<IPython.core.display.Javascript object>"
            ],
            "application/javascript": [
              "\n",
              "    async function download(id, filename, size) {\n",
              "      if (!google.colab.kernel.accessAllowed) {\n",
              "        return;\n",
              "      }\n",
              "      const div = document.createElement('div');\n",
              "      const label = document.createElement('label');\n",
              "      label.textContent = `Downloading \"${filename}\": `;\n",
              "      div.appendChild(label);\n",
              "      const progress = document.createElement('progress');\n",
              "      progress.max = size;\n",
              "      div.appendChild(progress);\n",
              "      document.body.appendChild(div);\n",
              "\n",
              "      const buffers = [];\n",
              "      let downloaded = 0;\n",
              "\n",
              "      const channel = await google.colab.kernel.comms.open(id);\n",
              "      // Send a message to notify the kernel that we're ready.\n",
              "      channel.send({})\n",
              "\n",
              "      for await (const message of channel.messages) {\n",
              "        // Send a message to notify the kernel that we're ready.\n",
              "        channel.send({})\n",
              "        if (message.buffers) {\n",
              "          for (const buffer of message.buffers) {\n",
              "            buffers.push(buffer);\n",
              "            downloaded += buffer.byteLength;\n",
              "            progress.value = downloaded;\n",
              "          }\n",
              "        }\n",
              "      }\n",
              "      const blob = new Blob(buffers, {type: 'application/binary'});\n",
              "      const a = document.createElement('a');\n",
              "      a.href = window.URL.createObjectURL(blob);\n",
              "      a.download = filename;\n",
              "      div.appendChild(a);\n",
              "      a.click();\n",
              "      div.remove();\n",
              "    }\n",
              "  "
            ]
          },
          "metadata": {}
        },
        {
          "output_type": "display_data",
          "data": {
            "text/plain": [
              "<IPython.core.display.Javascript object>"
            ],
            "application/javascript": [
              "download(\"download_dfed5ba8-aa32-48d4-a957-b3111a21689a\", \"smokeesci_model.zip\", 83978368)"
            ]
          },
          "metadata": {}
        }
      ]
    },
    {
      "cell_type": "code",
      "source": [
        "model.train(\n",
        "    data='/content/cigarette-3/data.yaml',\n",
        "    epochs=60,\n",
        "    imgsz=640,\n",
        "    batch=16,\n",
        "    patience=5,\n",
        "    optimizer=\"SGD\",\n",
        "    lr0=0.001,\n",
        "    lrf=0.01,\n",
        "    momentum=0.937,\n",
        "    weight_decay=0.0005,\n",
        "    warmup_epochs=3,\n",
        "    hsv_h=0.015, hsv_s=0.7, hsv_v=0.4,\n",
        "    translate=0.1, scale=0.5,\n",
        "    fliplr=0.5, mosaic=1.0, mixup=0.1,\n",
        "    device=0,\n",
        "    cache=True\n",
        ")"
      ],
      "metadata": {
        "id": "ZOhjLueXwvF_"
      },
      "execution_count": null,
      "outputs": []
    }
  ]
}